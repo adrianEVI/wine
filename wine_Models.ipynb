{
 "cells": [
  {
   "cell_type": "code",
   "execution_count": 1,
   "id": "c8ea99ba",
   "metadata": {
    "executionInfo": {
     "elapsed": 1442,
     "status": "ok",
     "timestamp": 1637990980069,
     "user": {
      "displayName": "Adrian Emilio Vazquez Icedo",
      "photoUrl": "https://lh3.googleusercontent.com/a-/AOh14GgJzA6ST7SXJztqFBiGH9sYJ4cvHZi7Bjp1RJuwnA=s64",
      "userId": "08262452322628430763"
     },
     "user_tz": 420
    },
    "id": "c8ea99ba"
   },
   "outputs": [],
   "source": [
    "import pandas as pd\n",
    "import numpy as np\n",
    "import matplotlib as plt\n",
    "import plotly.express as px\n",
    "import seaborn as sns\n",
    "from matplotlib import pyplot\n",
    "%matplotlib inline"
   ]
  },
  {
   "cell_type": "markdown",
   "id": "8ap3n-xNpKSg",
   "metadata": {
    "id": "8ap3n-xNpKSg"
   },
   "source": [
    "# Compresión de los datos\n",
    "## Recoleccion de los datos iniciales\n",
    "\n",
    "Los datos utilizados son referentes a la calidad de la produccion de vinos. \n",
    "\n",
    "\n",
    "Los datos se obtuvieron de: https://archive.ics.uci.edu/ml/machine-learning-databases/wine-quality/winequality-red.csv\n"
   ]
  },
  {
   "cell_type": "markdown",
   "id": "yyTU6L24qMJ2",
   "metadata": {
    "id": "yyTU6L24qMJ2"
   },
   "source": [
    "## Descripción de los datos\n",
    "\n",
    "Los datos se encuentran almacenados en archivos Excel (.csv) y se manipularan mediante Python."
   ]
  },
  {
   "cell_type": "code",
   "execution_count": 2,
   "id": "c41da300",
   "metadata": {
    "colab": {
     "base_uri": "https://localhost:8080/",
     "height": 397
    },
    "executionInfo": {
     "elapsed": 311,
     "status": "error",
     "timestamp": 1637990980379,
     "user": {
      "displayName": "Adrian Emilio Vazquez Icedo",
      "photoUrl": "https://lh3.googleusercontent.com/a-/AOh14GgJzA6ST7SXJztqFBiGH9sYJ4cvHZi7Bjp1RJuwnA=s64",
      "userId": "08262452322628430763"
     },
     "user_tz": 420
    },
    "id": "c41da300",
    "outputId": "0232c1c7-abf2-4e92-a31e-b7e9893bbb2e",
    "scrolled": true
   },
   "outputs": [
    {
     "data": {
      "text/html": [
       "<div>\n",
       "<style scoped>\n",
       "    .dataframe tbody tr th:only-of-type {\n",
       "        vertical-align: middle;\n",
       "    }\n",
       "\n",
       "    .dataframe tbody tr th {\n",
       "        vertical-align: top;\n",
       "    }\n",
       "\n",
       "    .dataframe thead th {\n",
       "        text-align: right;\n",
       "    }\n",
       "</style>\n",
       "<table border=\"1\" class=\"dataframe\">\n",
       "  <thead>\n",
       "    <tr style=\"text-align: right;\">\n",
       "      <th></th>\n",
       "      <th>Unnamed: 0</th>\n",
       "      <th>fixed acidity</th>\n",
       "      <th>volatile acidity</th>\n",
       "      <th>citric acid</th>\n",
       "      <th>residual sugar</th>\n",
       "      <th>chlorides</th>\n",
       "      <th>free sulfur dioxide</th>\n",
       "      <th>total sulfur dioxide</th>\n",
       "      <th>density</th>\n",
       "      <th>pH</th>\n",
       "      <th>sulphates</th>\n",
       "      <th>alcohol</th>\n",
       "      <th>quality</th>\n",
       "      <th>quality_binned</th>\n",
       "    </tr>\n",
       "  </thead>\n",
       "  <tbody>\n",
       "    <tr>\n",
       "      <th>0</th>\n",
       "      <td>0</td>\n",
       "      <td>7.4</td>\n",
       "      <td>0.700</td>\n",
       "      <td>0.00</td>\n",
       "      <td>1.9</td>\n",
       "      <td>0.076</td>\n",
       "      <td>11.0</td>\n",
       "      <td>34.0</td>\n",
       "      <td>0.99780</td>\n",
       "      <td>3.51</td>\n",
       "      <td>0.56</td>\n",
       "      <td>9.4</td>\n",
       "      <td>5</td>\n",
       "      <td>Medium</td>\n",
       "    </tr>\n",
       "    <tr>\n",
       "      <th>1</th>\n",
       "      <td>1</td>\n",
       "      <td>7.8</td>\n",
       "      <td>0.880</td>\n",
       "      <td>0.00</td>\n",
       "      <td>2.6</td>\n",
       "      <td>0.098</td>\n",
       "      <td>25.0</td>\n",
       "      <td>67.0</td>\n",
       "      <td>0.99680</td>\n",
       "      <td>3.20</td>\n",
       "      <td>0.68</td>\n",
       "      <td>9.8</td>\n",
       "      <td>5</td>\n",
       "      <td>Medium</td>\n",
       "    </tr>\n",
       "    <tr>\n",
       "      <th>2</th>\n",
       "      <td>2</td>\n",
       "      <td>7.8</td>\n",
       "      <td>0.760</td>\n",
       "      <td>0.04</td>\n",
       "      <td>2.3</td>\n",
       "      <td>0.092</td>\n",
       "      <td>15.0</td>\n",
       "      <td>54.0</td>\n",
       "      <td>0.99700</td>\n",
       "      <td>3.26</td>\n",
       "      <td>0.65</td>\n",
       "      <td>9.8</td>\n",
       "      <td>5</td>\n",
       "      <td>Medium</td>\n",
       "    </tr>\n",
       "    <tr>\n",
       "      <th>3</th>\n",
       "      <td>3</td>\n",
       "      <td>11.2</td>\n",
       "      <td>0.280</td>\n",
       "      <td>0.56</td>\n",
       "      <td>1.9</td>\n",
       "      <td>0.075</td>\n",
       "      <td>17.0</td>\n",
       "      <td>60.0</td>\n",
       "      <td>0.99800</td>\n",
       "      <td>3.16</td>\n",
       "      <td>0.58</td>\n",
       "      <td>9.8</td>\n",
       "      <td>6</td>\n",
       "      <td>Medium</td>\n",
       "    </tr>\n",
       "    <tr>\n",
       "      <th>4</th>\n",
       "      <td>4</td>\n",
       "      <td>7.4</td>\n",
       "      <td>0.700</td>\n",
       "      <td>0.00</td>\n",
       "      <td>1.9</td>\n",
       "      <td>0.076</td>\n",
       "      <td>11.0</td>\n",
       "      <td>34.0</td>\n",
       "      <td>0.99780</td>\n",
       "      <td>3.51</td>\n",
       "      <td>0.56</td>\n",
       "      <td>9.4</td>\n",
       "      <td>5</td>\n",
       "      <td>Medium</td>\n",
       "    </tr>\n",
       "    <tr>\n",
       "      <th>...</th>\n",
       "      <td>...</td>\n",
       "      <td>...</td>\n",
       "      <td>...</td>\n",
       "      <td>...</td>\n",
       "      <td>...</td>\n",
       "      <td>...</td>\n",
       "      <td>...</td>\n",
       "      <td>...</td>\n",
       "      <td>...</td>\n",
       "      <td>...</td>\n",
       "      <td>...</td>\n",
       "      <td>...</td>\n",
       "      <td>...</td>\n",
       "      <td>...</td>\n",
       "    </tr>\n",
       "    <tr>\n",
       "      <th>1594</th>\n",
       "      <td>1594</td>\n",
       "      <td>6.2</td>\n",
       "      <td>0.600</td>\n",
       "      <td>0.08</td>\n",
       "      <td>2.0</td>\n",
       "      <td>0.090</td>\n",
       "      <td>32.0</td>\n",
       "      <td>44.0</td>\n",
       "      <td>0.99490</td>\n",
       "      <td>3.45</td>\n",
       "      <td>0.58</td>\n",
       "      <td>10.5</td>\n",
       "      <td>5</td>\n",
       "      <td>Medium</td>\n",
       "    </tr>\n",
       "    <tr>\n",
       "      <th>1595</th>\n",
       "      <td>1595</td>\n",
       "      <td>5.9</td>\n",
       "      <td>0.550</td>\n",
       "      <td>0.10</td>\n",
       "      <td>2.2</td>\n",
       "      <td>0.062</td>\n",
       "      <td>39.0</td>\n",
       "      <td>51.0</td>\n",
       "      <td>0.99512</td>\n",
       "      <td>3.52</td>\n",
       "      <td>0.76</td>\n",
       "      <td>11.2</td>\n",
       "      <td>6</td>\n",
       "      <td>Medium</td>\n",
       "    </tr>\n",
       "    <tr>\n",
       "      <th>1596</th>\n",
       "      <td>1596</td>\n",
       "      <td>6.3</td>\n",
       "      <td>0.510</td>\n",
       "      <td>0.13</td>\n",
       "      <td>2.3</td>\n",
       "      <td>0.076</td>\n",
       "      <td>29.0</td>\n",
       "      <td>40.0</td>\n",
       "      <td>0.99574</td>\n",
       "      <td>3.42</td>\n",
       "      <td>0.75</td>\n",
       "      <td>11.0</td>\n",
       "      <td>6</td>\n",
       "      <td>Medium</td>\n",
       "    </tr>\n",
       "    <tr>\n",
       "      <th>1597</th>\n",
       "      <td>1597</td>\n",
       "      <td>5.9</td>\n",
       "      <td>0.645</td>\n",
       "      <td>0.12</td>\n",
       "      <td>2.0</td>\n",
       "      <td>0.075</td>\n",
       "      <td>32.0</td>\n",
       "      <td>44.0</td>\n",
       "      <td>0.99547</td>\n",
       "      <td>3.57</td>\n",
       "      <td>0.71</td>\n",
       "      <td>10.2</td>\n",
       "      <td>5</td>\n",
       "      <td>Medium</td>\n",
       "    </tr>\n",
       "    <tr>\n",
       "      <th>1598</th>\n",
       "      <td>1598</td>\n",
       "      <td>6.0</td>\n",
       "      <td>0.310</td>\n",
       "      <td>0.47</td>\n",
       "      <td>3.6</td>\n",
       "      <td>0.067</td>\n",
       "      <td>18.0</td>\n",
       "      <td>42.0</td>\n",
       "      <td>0.99549</td>\n",
       "      <td>3.39</td>\n",
       "      <td>0.66</td>\n",
       "      <td>11.0</td>\n",
       "      <td>6</td>\n",
       "      <td>Medium</td>\n",
       "    </tr>\n",
       "  </tbody>\n",
       "</table>\n",
       "<p>1599 rows × 14 columns</p>\n",
       "</div>"
      ],
      "text/plain": [
       "      Unnamed: 0  fixed acidity  volatile acidity  citric acid  \\\n",
       "0              0            7.4             0.700         0.00   \n",
       "1              1            7.8             0.880         0.00   \n",
       "2              2            7.8             0.760         0.04   \n",
       "3              3           11.2             0.280         0.56   \n",
       "4              4            7.4             0.700         0.00   \n",
       "...          ...            ...               ...          ...   \n",
       "1594        1594            6.2             0.600         0.08   \n",
       "1595        1595            5.9             0.550         0.10   \n",
       "1596        1596            6.3             0.510         0.13   \n",
       "1597        1597            5.9             0.645         0.12   \n",
       "1598        1598            6.0             0.310         0.47   \n",
       "\n",
       "      residual sugar  chlorides  free sulfur dioxide  total sulfur dioxide  \\\n",
       "0                1.9      0.076                 11.0                  34.0   \n",
       "1                2.6      0.098                 25.0                  67.0   \n",
       "2                2.3      0.092                 15.0                  54.0   \n",
       "3                1.9      0.075                 17.0                  60.0   \n",
       "4                1.9      0.076                 11.0                  34.0   \n",
       "...              ...        ...                  ...                   ...   \n",
       "1594             2.0      0.090                 32.0                  44.0   \n",
       "1595             2.2      0.062                 39.0                  51.0   \n",
       "1596             2.3      0.076                 29.0                  40.0   \n",
       "1597             2.0      0.075                 32.0                  44.0   \n",
       "1598             3.6      0.067                 18.0                  42.0   \n",
       "\n",
       "      density    pH  sulphates  alcohol  quality quality_binned  \n",
       "0     0.99780  3.51       0.56      9.4        5         Medium  \n",
       "1     0.99680  3.20       0.68      9.8        5         Medium  \n",
       "2     0.99700  3.26       0.65      9.8        5         Medium  \n",
       "3     0.99800  3.16       0.58      9.8        6         Medium  \n",
       "4     0.99780  3.51       0.56      9.4        5         Medium  \n",
       "...       ...   ...        ...      ...      ...            ...  \n",
       "1594  0.99490  3.45       0.58     10.5        5         Medium  \n",
       "1595  0.99512  3.52       0.76     11.2        6         Medium  \n",
       "1596  0.99574  3.42       0.75     11.0        6         Medium  \n",
       "1597  0.99547  3.57       0.71     10.2        5         Medium  \n",
       "1598  0.99549  3.39       0.66     11.0        6         Medium  \n",
       "\n",
       "[1599 rows x 14 columns]"
      ]
     },
     "execution_count": 2,
     "metadata": {},
     "output_type": "execute_result"
    }
   ],
   "source": [
    "wine=pd.read_csv('wineEDA.csv', sep=',')\n",
    "wine"
   ]
  },
  {
   "cell_type": "markdown",
   "id": "AyOZDZEcxyap",
   "metadata": {
    "id": "AyOZDZEcxyap"
   },
   "source": [
    "# Modelado"
   ]
  },
  {
   "cell_type": "markdown",
   "id": "RAcHGAYKK6gY",
   "metadata": {
    "id": "RAcHGAYKK6gY"
   },
   "source": [
    "## Preparación de los datos de entrenamiento y prueba"
   ]
  },
  {
   "cell_type": "markdown",
   "id": "ET5ykD7kIjj5",
   "metadata": {
    "id": "ET5ykD7kIjj5"
   },
   "source": [
    "Eliminar las columnas de la variable que se desea predecir"
   ]
  },
  {
   "cell_type": "code",
   "execution_count": 3,
   "id": "cTIGTPXOTX4g",
   "metadata": {
    "id": "cTIGTPXOTX4g"
   },
   "outputs": [],
   "source": [
    "x = wine.drop(columns= ['quality', 'quality_binned'])\n",
    "\n",
    "y = wine['quality_binned']"
   ]
  },
  {
   "cell_type": "markdown",
   "id": "lccjPAfIIuR0",
   "metadata": {
    "id": "lccjPAfIIuR0"
   },
   "source": [
    "Separar el conjunto de entrenamiento y de pruebas.\n",
    "Requiere: características, objetivo y el tamaño del conjunto de pruebas"
   ]
  },
  {
   "cell_type": "code",
   "execution_count": 4,
   "id": "3KmjbbmSTgta",
   "metadata": {
    "id": "3KmjbbmSTgta"
   },
   "outputs": [],
   "source": [
    "from sklearn.model_selection import train_test_split \n",
    "x_train, x_test, y_train, y_test = train_test_split(x, y, test_size=0.25, random_state=0)"
   ]
  },
  {
   "cell_type": "markdown",
   "id": "VPTUuqO4-U1n",
   "metadata": {
    "id": "VPTUuqO4-U1n"
   },
   "source": [
    "Tamaño del conjunto de entrenamiento y pruebas"
   ]
  },
  {
   "cell_type": "code",
   "execution_count": 5,
   "id": "anpuUoEATj77",
   "metadata": {
    "colab": {
     "base_uri": "https://localhost:8080/"
    },
    "executionInfo": {
     "elapsed": 21,
     "status": "ok",
     "timestamp": 1637382275773,
     "user": {
      "displayName": "Adrian Emilio Vazquez Icedo",
      "photoUrl": "https://lh3.googleusercontent.com/a-/AOh14GgJzA6ST7SXJztqFBiGH9sYJ4cvHZi7Bjp1RJuwnA=s64",
      "userId": "08262452322628430763"
     },
     "user_tz": 420
    },
    "id": "anpuUoEATj77",
    "outputId": "99c2630c-c402-4290-a47b-bfaf60cb5aa2"
   },
   "outputs": [
    {
     "name": "stdout",
     "output_type": "stream",
     "text": [
      "x train:  1199\n",
      "y train:  1199\n",
      "x test:  400\n",
      "y test:  400\n"
     ]
    }
   ],
   "source": [
    "print('x train: ', len(x_train))\n",
    "print('y train: ', len(y_train))\n",
    "print('x test: ', len(x_test))\n",
    "print('y test: ', len(y_test))"
   ]
  },
  {
   "cell_type": "markdown",
   "id": "65o9GriSTqYO",
   "metadata": {
    "id": "65o9GriSTqYO"
   },
   "source": [
    "\n",
    "## Logistic Regression\n"
   ]
  },
  {
   "cell_type": "markdown",
   "id": "PvZE__knpgFR",
   "metadata": {
    "id": "PvZE__knpgFR"
   },
   "source": [
    "La regresión logística es un método estadístico para predecir clases binarias, describe y estima la relación entre una variable binaria dependiente y las variables independientes.\n",
    "\n",
    "* Este método es uno de los algoritmos de aprendizaje automático más simples y comúnmente utilizados para la clasificación de dos clases.\n",
    "* Calcula la probabilidad de ocurrencia de un evento binario utilizando una función logit.\n",
    "* El resultado o la variable objetivo es de naturaleza dicotómic\n",
    "* La variable dependiente en la regresión logística sigue la distribución de Bernoulli.\n",
    "* La estimación se realiza mediante el método de estimación de máxima verosimilitud (MLE)."
   ]
  },
  {
   "cell_type": "code",
   "execution_count": 6,
   "id": "ZRPrKbugTlf7",
   "metadata": {
    "colab": {
     "base_uri": "https://localhost:8080/"
    },
    "executionInfo": {
     "elapsed": 20,
     "status": "ok",
     "timestamp": 1637382275773,
     "user": {
      "displayName": "Adrian Emilio Vazquez Icedo",
      "photoUrl": "https://lh3.googleusercontent.com/a-/AOh14GgJzA6ST7SXJztqFBiGH9sYJ4cvHZi7Bjp1RJuwnA=s64",
      "userId": "08262452322628430763"
     },
     "user_tz": 420
    },
    "id": "ZRPrKbugTlf7",
    "outputId": "eb3e9a1c-a0e3-4ebd-9860-e2a09825adcf"
   },
   "outputs": [
    {
     "data": {
      "text/plain": [
       "LogisticRegression(max_iter=10000)"
      ]
     },
     "execution_count": 6,
     "metadata": {},
     "output_type": "execute_result"
    }
   ],
   "source": [
    "from sklearn.linear_model import LogisticRegression\n",
    "reg = LogisticRegression(max_iter= 10000)\n",
    "reg.fit(x_train, y_train)"
   ]
  },
  {
   "cell_type": "code",
   "execution_count": 7,
   "id": "gWni7ziMTyRF",
   "metadata": {
    "colab": {
     "base_uri": "https://localhost:8080/"
    },
    "executionInfo": {
     "elapsed": 18,
     "status": "ok",
     "timestamp": 1637382275773,
     "user": {
      "displayName": "Adrian Emilio Vazquez Icedo",
      "photoUrl": "https://lh3.googleusercontent.com/a-/AOh14GgJzA6ST7SXJztqFBiGH9sYJ4cvHZi7Bjp1RJuwnA=s64",
      "userId": "08262452322628430763"
     },
     "user_tz": 420
    },
    "id": "gWni7ziMTyRF",
    "outputId": "3a1e9b0a-1ebd-4fd7-b3cc-9a85b5d572b5"
   },
   "outputs": [
    {
     "name": "stdout",
     "output_type": "stream",
     "text": [
      "              precision    recall  f1-score   support\n",
      "\n",
      "        High       0.61      0.31      0.41        45\n",
      "         Low       0.00      0.00      0.00        16\n",
      "      Medium       0.88      0.97      0.92       339\n",
      "\n",
      "    accuracy                           0.86       400\n",
      "   macro avg       0.49      0.43      0.44       400\n",
      "weighted avg       0.81      0.86      0.83       400\n",
      "\n",
      "Confusion matrix:  [[ 14   0  31]\n",
      " [  0   0  16]\n",
      " [  9   0 330]]\n",
      "Training score:  83.73644703919933\n"
     ]
    },
    {
     "name": "stderr",
     "output_type": "stream",
     "text": [
      "C:\\Users\\avazq\\anaconda3\\lib\\site-packages\\sklearn\\metrics\\_classification.py:1245: UndefinedMetricWarning: Precision and F-score are ill-defined and being set to 0.0 in labels with no predicted samples. Use `zero_division` parameter to control this behavior.\n",
      "  _warn_prf(average, modifier, msg_start, len(result))\n",
      "C:\\Users\\avazq\\anaconda3\\lib\\site-packages\\sklearn\\metrics\\_classification.py:1245: UndefinedMetricWarning: Precision and F-score are ill-defined and being set to 0.0 in labels with no predicted samples. Use `zero_division` parameter to control this behavior.\n",
      "  _warn_prf(average, modifier, msg_start, len(result))\n",
      "C:\\Users\\avazq\\anaconda3\\lib\\site-packages\\sklearn\\metrics\\_classification.py:1245: UndefinedMetricWarning: Precision and F-score are ill-defined and being set to 0.0 in labels with no predicted samples. Use `zero_division` parameter to control this behavior.\n",
      "  _warn_prf(average, modifier, msg_start, len(result))\n"
     ]
    }
   ],
   "source": [
    "y_pred = reg.predict(x_test)\n",
    "from sklearn.metrics import accuracy_score, classification_report, confusion_matrix, r2_score, roc_auc_score\n",
    "print(classification_report(y_test, y_pred))\n",
    "print('Confusion matrix: ', confusion_matrix(y_test, y_pred))\n",
    "print('Training score: ', reg.score(x_train, y_train)*100)"
   ]
  },
  {
   "cell_type": "code",
   "execution_count": 8,
   "id": "-4FWb5o-T_D2",
   "metadata": {
    "colab": {
     "base_uri": "https://localhost:8080/"
    },
    "executionInfo": {
     "elapsed": 18,
     "status": "ok",
     "timestamp": 1637382275774,
     "user": {
      "displayName": "Adrian Emilio Vazquez Icedo",
      "photoUrl": "https://lh3.googleusercontent.com/a-/AOh14GgJzA6ST7SXJztqFBiGH9sYJ4cvHZi7Bjp1RJuwnA=s64",
      "userId": "08262452322628430763"
     },
     "user_tz": 420
    },
    "id": "-4FWb5o-T_D2",
    "outputId": "003ab033-e344-4f7a-a521-b1634657be9b"
   },
   "outputs": [
    {
     "name": "stdout",
     "output_type": "stream",
     "text": [
      "Logistic Regression accuracy score:  86.0\n"
     ]
    }
   ],
   "source": [
    "score_lr = accuracy_score(y_test, y_pred)*100\n",
    "print(\"Logistic Regression accuracy score: \", score_lr)"
   ]
  },
  {
   "cell_type": "markdown",
   "id": "UH1RR0yyUcu-",
   "metadata": {
    "id": "UH1RR0yyUcu-"
   },
   "source": [
    "## K Nearest Neighbors Classifier (KNN)\n",
    "### Algoritmo de clasificación de los K vecinos próximos"
   ]
  },
  {
   "cell_type": "markdown",
   "id": "X8X1Z2e9A6nX",
   "metadata": {
    "id": "X8X1Z2e9A6nX"
   },
   "source": [
    "* Para encontrar similaridad entre puntos, se encuentra la distancia entre estos, para ello utiliza medidas como distancia Euclidiana, distancia de Manhattan, distancia de Hamming y la distancia de Minkowski\n",
    "* Funciona bien con datos de pocas características\n",
    "* K es el número de vecinos a evaluar"
   ]
  },
  {
   "cell_type": "markdown",
   "id": "sIHcOtqFjF6P",
   "metadata": {
    "id": "sIHcOtqFjF6P"
   },
   "source": [
    "Se crea el objeto KNN y se ajusta el modelo de entrenamiento"
   ]
  },
  {
   "cell_type": "code",
   "execution_count": 9,
   "id": "1zFlZJRaUbI8",
   "metadata": {
    "colab": {
     "base_uri": "https://localhost:8080/"
    },
    "executionInfo": {
     "elapsed": 16,
     "status": "ok",
     "timestamp": 1637382275774,
     "user": {
      "displayName": "Adrian Emilio Vazquez Icedo",
      "photoUrl": "https://lh3.googleusercontent.com/a-/AOh14GgJzA6ST7SXJztqFBiGH9sYJ4cvHZi7Bjp1RJuwnA=s64",
      "userId": "08262452322628430763"
     },
     "user_tz": 420
    },
    "id": "1zFlZJRaUbI8",
    "outputId": "877e369d-241f-4ebf-d05e-d00887e1a629"
   },
   "outputs": [
    {
     "data": {
      "text/plain": [
       "KNeighborsClassifier()"
      ]
     },
     "execution_count": 9,
     "metadata": {},
     "output_type": "execute_result"
    }
   ],
   "source": [
    "from sklearn.neighbors import KNeighborsClassifier\n",
    "knn = KNeighborsClassifier(n_neighbors= 5)\n",
    "\n",
    "knn.fit(x_train, y_train)"
   ]
  },
  {
   "cell_type": "markdown",
   "id": "UYpX3j7Ijp6V",
   "metadata": {
    "id": "UYpX3j7Ijp6V"
   },
   "source": [
    "Se crea el objeto de predicción y evalua"
   ]
  },
  {
   "cell_type": "code",
   "execution_count": 10,
   "id": "ub_L7PsgUV74",
   "metadata": {
    "colab": {
     "base_uri": "https://localhost:8080/"
    },
    "executionInfo": {
     "elapsed": 15,
     "status": "ok",
     "timestamp": 1637382275774,
     "user": {
      "displayName": "Adrian Emilio Vazquez Icedo",
      "photoUrl": "https://lh3.googleusercontent.com/a-/AOh14GgJzA6ST7SXJztqFBiGH9sYJ4cvHZi7Bjp1RJuwnA=s64",
      "userId": "08262452322628430763"
     },
     "user_tz": 420
    },
    "id": "ub_L7PsgUV74",
    "outputId": "0931257c-2f67-4ebb-99a5-e728536fcf66"
   },
   "outputs": [
    {
     "name": "stdout",
     "output_type": "stream",
     "text": [
      "              precision    recall  f1-score   support\n",
      "\n",
      "        High       0.28      0.24      0.26        45\n",
      "         Low       0.33      0.06      0.11        16\n",
      "      Medium       0.87      0.91      0.89       339\n",
      "\n",
      "    accuracy                           0.81       400\n",
      "   macro avg       0.49      0.41      0.42       400\n",
      "weighted avg       0.78      0.81      0.79       400\n",
      "\n",
      "[[ 11   0  34]\n",
      " [  1   1  14]\n",
      " [ 27   2 310]]\n",
      "Training Score:  84.7372810675563\n",
      "Testing Score:   80.5\n"
     ]
    }
   ],
   "source": [
    "y_pred = knn.predict(x_test)\n",
    "from sklearn.metrics import classification_report, confusion_matrix, accuracy_score, mean_squared_error, r2_score\n",
    "print(classification_report(y_test, y_pred))\n",
    "print(confusion_matrix(y_test, y_pred))\n",
    "print(\"Training Score: \", knn.score(x_train, y_train)*100)\n",
    "print(\"Testing Score:  \", knn.score(x_test, y_test)*100)"
   ]
  },
  {
   "cell_type": "markdown",
   "id": "Q3RwebApkmOG",
   "metadata": {
    "id": "Q3RwebApkmOG"
   },
   "source": [
    "Se promedia los resultados de pruebas y entrenamiento"
   ]
  },
  {
   "cell_type": "code",
   "execution_count": 11,
   "id": "xq_7Btr6Uh4l",
   "metadata": {
    "colab": {
     "base_uri": "https://localhost:8080/"
    },
    "executionInfo": {
     "elapsed": 13,
     "status": "ok",
     "timestamp": 1637382275774,
     "user": {
      "displayName": "Adrian Emilio Vazquez Icedo",
      "photoUrl": "https://lh3.googleusercontent.com/a-/AOh14GgJzA6ST7SXJztqFBiGH9sYJ4cvHZi7Bjp1RJuwnA=s64",
      "userId": "08262452322628430763"
     },
     "user_tz": 420
    },
    "id": "xq_7Btr6Uh4l",
    "outputId": "d9ee7e68-4ec2-464d-83a3-65f63cc257e6"
   },
   "outputs": [
    {
     "name": "stdout",
     "output_type": "stream",
     "text": [
      "KNN accuracy Score:  80.5\n"
     ]
    }
   ],
   "source": [
    "score_knn = accuracy_score(y_test, y_pred)*100\n",
    "print(\"KNN accuracy Score: \", score_knn)"
   ]
  },
  {
   "cell_type": "markdown",
   "id": "8k8QeaT4VIGy",
   "metadata": {
    "id": "8k8QeaT4VIGy"
   },
   "source": [
    "\n",
    "# Decision Tree Classifier"
   ]
  },
  {
   "cell_type": "markdown",
   "id": "b42tPX6O98-7",
   "metadata": {
    "id": "b42tPX6O98-7"
   },
   "source": [
    "Árbol de decisión\n",
    "\n",
    "\n",
    "El objetivo es crear un modelo que prediga el valor de una variable objetivo mediante el aprendizaje de reglas de decisión simples inferidas de las características de los datos. \n",
    "\n",
    "* Cuanto más profundo es el árbol, más complejas son las reglas de decisión y más ajustado es el modelo.\n",
    "\n",
    "* Los árboles de decisión son fáciles de interpretar y visualizar.\n",
    "\n",
    "* Requiere menos procesamiento previo de datos por parte del usuario, por ejemplo, no hay necesidad de normalizar columnas.\n",
    "\n",
    "* Sensible a datos ruidosos. Puede sobreajustarse a datos ruidosos. Esto se debe controlar mediante la profundidad del arbol.\n"
   ]
  },
  {
   "cell_type": "code",
   "execution_count": 12,
   "id": "i_KAXyQvVGnU",
   "metadata": {
    "id": "i_KAXyQvVGnU"
   },
   "outputs": [],
   "source": [
    "from sklearn.tree import DecisionTreeClassifier\n",
    "dtree = DecisionTreeClassifier(max_depth=6, random_state=0)\n",
    "\n",
    "dtree.fit(x_train, y_train)\n",
    "\n",
    "y_pred = dtree.predict(x_test)"
   ]
  },
  {
   "cell_type": "code",
   "execution_count": 13,
   "id": "fDbw20e9VNUm",
   "metadata": {
    "colab": {
     "base_uri": "https://localhost:8080/"
    },
    "executionInfo": {
     "elapsed": 12,
     "status": "ok",
     "timestamp": 1637382275775,
     "user": {
      "displayName": "Adrian Emilio Vazquez Icedo",
      "photoUrl": "https://lh3.googleusercontent.com/a-/AOh14GgJzA6ST7SXJztqFBiGH9sYJ4cvHZi7Bjp1RJuwnA=s64",
      "userId": "08262452322628430763"
     },
     "user_tz": 420
    },
    "id": "fDbw20e9VNUm",
    "outputId": "9c94d98e-61a1-4e7b-ae0f-24684aefe041"
   },
   "outputs": [
    {
     "name": "stdout",
     "output_type": "stream",
     "text": [
      "              precision    recall  f1-score   support\n",
      "\n",
      "        High       0.42      0.49      0.45        45\n",
      "         Low       0.33      0.06      0.11        16\n",
      "      Medium       0.89      0.91      0.90       339\n",
      "\n",
      "    accuracy                           0.82       400\n",
      "   macro avg       0.55      0.49      0.48       400\n",
      "weighted avg       0.82      0.82      0.82       400\n",
      "\n",
      "[[ 22   0  23]\n",
      " [  1   1  14]\n",
      " [ 30   2 307]]\n",
      "Training Score:  89.49124270225187\n"
     ]
    }
   ],
   "source": [
    "y_pred=dtree.predict(x_test)\n",
    "\n",
    "from sklearn.metrics import classification_report, confusion_matrix, accuracy_score, mean_squared_error\n",
    "print(classification_report(y_test, y_pred))\n",
    "print(confusion_matrix(y_test, y_pred))\n",
    "print(\"Training Score: \",dtree.score(x_train, y_train)*100)\n"
   ]
  },
  {
   "cell_type": "code",
   "execution_count": 14,
   "id": "s0CvkqDCVOVo",
   "metadata": {
    "colab": {
     "base_uri": "https://localhost:8080/"
    },
    "executionInfo": {
     "elapsed": 11,
     "status": "ok",
     "timestamp": 1637382275775,
     "user": {
      "displayName": "Adrian Emilio Vazquez Icedo",
      "photoUrl": "https://lh3.googleusercontent.com/a-/AOh14GgJzA6ST7SXJztqFBiGH9sYJ4cvHZi7Bjp1RJuwnA=s64",
      "userId": "08262452322628430763"
     },
     "user_tz": 420
    },
    "id": "s0CvkqDCVOVo",
    "outputId": "11c7b538-b240-4e3a-a84e-066fe9fceede"
   },
   "outputs": [
    {
     "name": "stdout",
     "output_type": "stream",
     "text": [
      "Decision Tree accuracy Score:  82.5\n"
     ]
    }
   ],
   "source": [
    "score_ds = accuracy_score(y_test, y_pred)*100\n",
    "print(\"Decision Tree accuracy Score: \", score_ds)"
   ]
  },
  {
   "cell_type": "markdown",
   "id": "8ldispTxOzAH",
   "metadata": {
    "id": "8ldispTxOzAH"
   },
   "source": [
    "## Pipeline"
   ]
  },
  {
   "cell_type": "code",
   "execution_count": 15,
   "id": "nVOyMqgGnxpr",
   "metadata": {
    "id": "nVOyMqgGnxpr"
   },
   "outputs": [],
   "source": [
    "from sklearn.pipeline import make_pipeline # https://stackoverflow.com/questions/40708077/what-is-the-difference-between-pipeline-and-make-pipeline-in-scikit\n",
    "\n",
    "from sklearn.pipeline import Pipeline\n",
    "from sklearn.preprocessing import StandardScaler\n",
    "from sklearn.preprocessing import PolynomialFeatures\n",
    "from sklearn.linear_model import LinearRegression\n",
    "from sklearn.ensemble import ExtraTreesClassifier"
   ]
  },
  {
   "cell_type": "code",
   "execution_count": 16,
   "id": "OIr8K9v_v5W1",
   "metadata": {
    "id": "OIr8K9v_v5W1"
   },
   "outputs": [],
   "source": [
    "Input=[('scale',StandardScaler()), ('polynomial', PolynomialFeatures(include_bias=False)), ('model',ExtraTreesClassifier())]"
   ]
  },
  {
   "cell_type": "code",
   "execution_count": 17,
   "id": "C6f2WTqgv6DV",
   "metadata": {
    "colab": {
     "base_uri": "https://localhost:8080/"
    },
    "executionInfo": {
     "elapsed": 10,
     "status": "ok",
     "timestamp": 1637382275776,
     "user": {
      "displayName": "Adrian Emilio Vazquez Icedo",
      "photoUrl": "https://lh3.googleusercontent.com/a-/AOh14GgJzA6ST7SXJztqFBiGH9sYJ4cvHZi7Bjp1RJuwnA=s64",
      "userId": "08262452322628430763"
     },
     "user_tz": 420
    },
    "id": "C6f2WTqgv6DV",
    "outputId": "83d88fdc-1728-4208-cdce-9d338940d8cf"
   },
   "outputs": [
    {
     "data": {
      "text/plain": [
       "Pipeline(steps=[('scale', StandardScaler()),\n",
       "                ('polynomial', PolynomialFeatures(include_bias=False)),\n",
       "                ('model', ExtraTreesClassifier())])"
      ]
     },
     "execution_count": 17,
     "metadata": {},
     "output_type": "execute_result"
    }
   ],
   "source": [
    "pipe=Pipeline(Input)\n",
    "pipe"
   ]
  },
  {
   "cell_type": "code",
   "execution_count": 18,
   "id": "ZMN-jlgXv7Ik",
   "metadata": {
    "colab": {
     "base_uri": "https://localhost:8080/"
    },
    "executionInfo": {
     "elapsed": 211,
     "status": "ok",
     "timestamp": 1637382275978,
     "user": {
      "displayName": "Adrian Emilio Vazquez Icedo",
      "photoUrl": "https://lh3.googleusercontent.com/a-/AOh14GgJzA6ST7SXJztqFBiGH9sYJ4cvHZi7Bjp1RJuwnA=s64",
      "userId": "08262452322628430763"
     },
     "user_tz": 420
    },
    "id": "ZMN-jlgXv7Ik",
    "outputId": "6dce6521-f609-4d8b-c1a6-488bfe6401df"
   },
   "outputs": [
    {
     "data": {
      "text/plain": [
       "Pipeline(steps=[('scale', StandardScaler()),\n",
       "                ('polynomial', PolynomialFeatures(include_bias=False)),\n",
       "                ('model', ExtraTreesClassifier())])"
      ]
     },
     "execution_count": 18,
     "metadata": {},
     "output_type": "execute_result"
    }
   ],
   "source": [
    "pipe.fit(x_train, y_train)"
   ]
  },
  {
   "cell_type": "code",
   "execution_count": 19,
   "id": "OyikUp6svmxC",
   "metadata": {
    "id": "OyikUp6svmxC"
   },
   "outputs": [],
   "source": [
    "y_pipe=pipe.predict(x_test)"
   ]
  },
  {
   "cell_type": "code",
   "execution_count": 20,
   "id": "6QRD4UdXybrp",
   "metadata": {
    "colab": {
     "base_uri": "https://localhost:8080/"
    },
    "executionInfo": {
     "elapsed": 6,
     "status": "ok",
     "timestamp": 1637382275978,
     "user": {
      "displayName": "Adrian Emilio Vazquez Icedo",
      "photoUrl": "https://lh3.googleusercontent.com/a-/AOh14GgJzA6ST7SXJztqFBiGH9sYJ4cvHZi7Bjp1RJuwnA=s64",
      "userId": "08262452322628430763"
     },
     "user_tz": 420
    },
    "id": "6QRD4UdXybrp",
    "outputId": "ae146e47-e5ee-4451-cce7-c04504f67fb0"
   },
   "outputs": [
    {
     "name": "stdout",
     "output_type": "stream",
     "text": [
      "              precision    recall  f1-score   support\n",
      "\n",
      "        High       0.78      0.56      0.65        45\n",
      "         Low       0.00      0.00      0.00        16\n",
      "      Medium       0.90      0.98      0.94       339\n",
      "\n",
      "    accuracy                           0.89       400\n",
      "   macro avg       0.56      0.51      0.53       400\n",
      "weighted avg       0.85      0.89      0.87       400\n",
      "\n",
      "[[ 25   0  20]\n",
      " [  0   0  16]\n",
      " [  7   1 331]]\n",
      "Training Score:  100.0\n",
      "Testing Score:  89.0\n"
     ]
    }
   ],
   "source": [
    "print(classification_report(y_test, y_pipe))\n",
    "print(confusion_matrix(y_test, y_pipe))\n",
    "print(\"Training Score: \", pipe.score(x_train, y_train)*100)\n",
    "print(\"Testing Score: \", pipe.score(x_test, y_test)*100)"
   ]
  },
  {
   "cell_type": "code",
   "execution_count": 21,
   "id": "XEFoBu2sxbz8",
   "metadata": {
    "colab": {
     "base_uri": "https://localhost:8080/"
    },
    "executionInfo": {
     "elapsed": 4,
     "status": "ok",
     "timestamp": 1637382275978,
     "user": {
      "displayName": "Adrian Emilio Vazquez Icedo",
      "photoUrl": "https://lh3.googleusercontent.com/a-/AOh14GgJzA6ST7SXJztqFBiGH9sYJ4cvHZi7Bjp1RJuwnA=s64",
      "userId": "08262452322628430763"
     },
     "user_tz": 420
    },
    "id": "XEFoBu2sxbz8",
    "outputId": "3561aa93-bd5d-46ee-c7b2-c4b44f4c3015"
   },
   "outputs": [
    {
     "data": {
      "text/plain": [
       "0.89"
      ]
     },
     "execution_count": 21,
     "metadata": {},
     "output_type": "execute_result"
    }
   ],
   "source": [
    "pipe.score(x_test,y_test)"
   ]
  },
  {
   "cell_type": "markdown",
   "id": "BUIn486mNBPD",
   "metadata": {
    "id": "BUIn486mNBPD"
   },
   "source": [
    "\n",
    "## Random Forest Classifier"
   ]
  },
  {
   "cell_type": "code",
   "execution_count": 22,
   "id": "XI-fgRb9m2b1",
   "metadata": {
    "colab": {
     "base_uri": "https://localhost:8080/"
    },
    "executionInfo": {
     "elapsed": 543,
     "status": "ok",
     "timestamp": 1637382276519,
     "user": {
      "displayName": "Adrian Emilio Vazquez Icedo",
      "photoUrl": "https://lh3.googleusercontent.com/a-/AOh14GgJzA6ST7SXJztqFBiGH9sYJ4cvHZi7Bjp1RJuwnA=s64",
      "userId": "08262452322628430763"
     },
     "user_tz": 420
    },
    "id": "XI-fgRb9m2b1",
    "outputId": "f364f1f7-2136-4412-d81f-0dbe3811274f"
   },
   "outputs": [
    {
     "data": {
      "text/plain": [
       "RandomForestClassifier()"
      ]
     },
     "execution_count": 22,
     "metadata": {},
     "output_type": "execute_result"
    }
   ],
   "source": [
    "from sklearn.ensemble import RandomForestClassifier\n",
    "rfc = RandomForestClassifier()\n",
    "rfc.fit(x_train, y_train)"
   ]
  },
  {
   "cell_type": "code",
   "execution_count": 23,
   "id": "dplHip75nc2P",
   "metadata": {
    "colab": {
     "base_uri": "https://localhost:8080/"
    },
    "executionInfo": {
     "elapsed": 7,
     "status": "ok",
     "timestamp": 1637382276519,
     "user": {
      "displayName": "Adrian Emilio Vazquez Icedo",
      "photoUrl": "https://lh3.googleusercontent.com/a-/AOh14GgJzA6ST7SXJztqFBiGH9sYJ4cvHZi7Bjp1RJuwnA=s64",
      "userId": "08262452322628430763"
     },
     "user_tz": 420
    },
    "id": "dplHip75nc2P",
    "outputId": "a0efef17-1796-4922-cc4e-3265877cdb13"
   },
   "outputs": [
    {
     "name": "stdout",
     "output_type": "stream",
     "text": [
      "              precision    recall  f1-score   support\n",
      "\n",
      "        High       0.71      0.60      0.65        45\n",
      "         Low       0.00      0.00      0.00        16\n",
      "      Medium       0.91      0.97      0.94       339\n",
      "\n",
      "    accuracy                           0.89       400\n",
      "   macro avg       0.54      0.52      0.53       400\n",
      "weighted avg       0.85      0.89      0.87       400\n",
      "\n",
      "[[ 27   0  18]\n",
      " [  0   0  16]\n",
      " [ 11   0 328]]\n",
      "Training Score:  100.0\n",
      "Testing Score:  88.75\n"
     ]
    },
    {
     "name": "stderr",
     "output_type": "stream",
     "text": [
      "C:\\Users\\avazq\\anaconda3\\lib\\site-packages\\sklearn\\metrics\\_classification.py:1245: UndefinedMetricWarning: Precision and F-score are ill-defined and being set to 0.0 in labels with no predicted samples. Use `zero_division` parameter to control this behavior.\n",
      "  _warn_prf(average, modifier, msg_start, len(result))\n",
      "C:\\Users\\avazq\\anaconda3\\lib\\site-packages\\sklearn\\metrics\\_classification.py:1245: UndefinedMetricWarning: Precision and F-score are ill-defined and being set to 0.0 in labels with no predicted samples. Use `zero_division` parameter to control this behavior.\n",
      "  _warn_prf(average, modifier, msg_start, len(result))\n",
      "C:\\Users\\avazq\\anaconda3\\lib\\site-packages\\sklearn\\metrics\\_classification.py:1245: UndefinedMetricWarning: Precision and F-score are ill-defined and being set to 0.0 in labels with no predicted samples. Use `zero_division` parameter to control this behavior.\n",
      "  _warn_prf(average, modifier, msg_start, len(result))\n"
     ]
    }
   ],
   "source": [
    "y_pred = rfc.predict(x_test)\n",
    "from sklearn.metrics import classification_report, confusion_matrix, accuracy_score, mean_squared_error\n",
    "print(classification_report(y_test, y_pred))\n",
    "print(confusion_matrix(y_test, y_pred))\n",
    "print(\"Training Score: \", rfc.score(x_train, y_train)*100)\n",
    "print(\"Testing Score: \", rfc.score(x_test, y_test)*100)"
   ]
  },
  {
   "cell_type": "code",
   "execution_count": 24,
   "id": "RHYgWRrPn4Z5",
   "metadata": {
    "colab": {
     "base_uri": "https://localhost:8080/"
    },
    "executionInfo": {
     "elapsed": 5,
     "status": "ok",
     "timestamp": 1637382276519,
     "user": {
      "displayName": "Adrian Emilio Vazquez Icedo",
      "photoUrl": "https://lh3.googleusercontent.com/a-/AOh14GgJzA6ST7SXJztqFBiGH9sYJ4cvHZi7Bjp1RJuwnA=s64",
      "userId": "08262452322628430763"
     },
     "user_tz": 420
    },
    "id": "RHYgWRrPn4Z5",
    "outputId": "fde199e4-8a8e-48b6-a07d-3eba519cb87a"
   },
   "outputs": [
    {
     "name": "stdout",
     "output_type": "stream",
     "text": [
      "Random Forest accuracy Score:  88.75\n"
     ]
    }
   ],
   "source": [
    "score_rf = accuracy_score(y_test, y_pred)*100\n",
    "print(\"Random Forest accuracy Score: \", score_rf)"
   ]
  },
  {
   "cell_type": "markdown",
   "id": "kjv_CZfppvaA",
   "metadata": {
    "id": "kjv_CZfppvaA"
   },
   "source": [
    "\n",
    "## C - Support Vector Classifier (SVC)"
   ]
  },
  {
   "cell_type": "code",
   "execution_count": 25,
   "id": "SI9o2tQcp0KT",
   "metadata": {
    "colab": {
     "base_uri": "https://localhost:8080/"
    },
    "executionInfo": {
     "elapsed": 199,
     "status": "ok",
     "timestamp": 1637382276715,
     "user": {
      "displayName": "Adrian Emilio Vazquez Icedo",
      "photoUrl": "https://lh3.googleusercontent.com/a-/AOh14GgJzA6ST7SXJztqFBiGH9sYJ4cvHZi7Bjp1RJuwnA=s64",
      "userId": "08262452322628430763"
     },
     "user_tz": 420
    },
    "id": "SI9o2tQcp0KT",
    "outputId": "add8747d-81ef-4786-a9c1-ce0a17a8e719"
   },
   "outputs": [
    {
     "data": {
      "text/plain": [
       "SVC()"
      ]
     },
     "execution_count": 25,
     "metadata": {},
     "output_type": "execute_result"
    }
   ],
   "source": [
    "from sklearn.svm import SVC\n",
    "svc = SVC()\n",
    "svc.fit(x_train, y_train)"
   ]
  },
  {
   "cell_type": "code",
   "execution_count": 26,
   "id": "3Y8GsKQqrbRe",
   "metadata": {
    "colab": {
     "base_uri": "https://localhost:8080/"
    },
    "executionInfo": {
     "elapsed": 11,
     "status": "ok",
     "timestamp": 1637382276715,
     "user": {
      "displayName": "Adrian Emilio Vazquez Icedo",
      "photoUrl": "https://lh3.googleusercontent.com/a-/AOh14GgJzA6ST7SXJztqFBiGH9sYJ4cvHZi7Bjp1RJuwnA=s64",
      "userId": "08262452322628430763"
     },
     "user_tz": 420
    },
    "id": "3Y8GsKQqrbRe",
    "outputId": "78a15641-3977-4380-84d9-b5935dab4fe3"
   },
   "outputs": [
    {
     "name": "stderr",
     "output_type": "stream",
     "text": [
      "C:\\Users\\avazq\\anaconda3\\lib\\site-packages\\sklearn\\metrics\\_classification.py:1245: UndefinedMetricWarning: Precision and F-score are ill-defined and being set to 0.0 in labels with no predicted samples. Use `zero_division` parameter to control this behavior.\n",
      "  _warn_prf(average, modifier, msg_start, len(result))\n",
      "C:\\Users\\avazq\\anaconda3\\lib\\site-packages\\sklearn\\metrics\\_classification.py:1245: UndefinedMetricWarning: Precision and F-score are ill-defined and being set to 0.0 in labels with no predicted samples. Use `zero_division` parameter to control this behavior.\n",
      "  _warn_prf(average, modifier, msg_start, len(result))\n",
      "C:\\Users\\avazq\\anaconda3\\lib\\site-packages\\sklearn\\metrics\\_classification.py:1245: UndefinedMetricWarning: Precision and F-score are ill-defined and being set to 0.0 in labels with no predicted samples. Use `zero_division` parameter to control this behavior.\n",
      "  _warn_prf(average, modifier, msg_start, len(result))\n"
     ]
    },
    {
     "name": "stdout",
     "output_type": "stream",
     "text": [
      "              precision    recall  f1-score   support\n",
      "\n",
      "        High       0.00      0.00      0.00        45\n",
      "         Low       0.00      0.00      0.00        16\n",
      "      Medium       0.85      1.00      0.92       339\n",
      "\n",
      "    accuracy                           0.85       400\n",
      "   macro avg       0.28      0.33      0.31       400\n",
      "weighted avg       0.72      0.85      0.78       400\n",
      "\n",
      "[[  0   0  45]\n",
      " [  0   0  16]\n",
      " [  0   0 339]]\n",
      "Training Score:  81.7347789824854\n",
      "Testing Score:  84.75\n"
     ]
    }
   ],
   "source": [
    "y_pred = svc.predict(x_test)\n",
    "from sklearn.metrics import classification_report, confusion_matrix, accuracy_score, mean_squared_error, r2_score\n",
    "print(classification_report(y_test, y_pred))\n",
    "print(confusion_matrix(y_test, y_pred))\n",
    "print(\"Training Score: \", svc.score(x_train, y_train)*100)\n",
    "print(\"Testing Score: \", svc.score(x_test, y_test)*100)"
   ]
  },
  {
   "cell_type": "code",
   "execution_count": 27,
   "id": "Dmjq4HmPsU7J",
   "metadata": {
    "colab": {
     "base_uri": "https://localhost:8080/"
    },
    "executionInfo": {
     "elapsed": 4,
     "status": "ok",
     "timestamp": 1637382276715,
     "user": {
      "displayName": "Adrian Emilio Vazquez Icedo",
      "photoUrl": "https://lh3.googleusercontent.com/a-/AOh14GgJzA6ST7SXJztqFBiGH9sYJ4cvHZi7Bjp1RJuwnA=s64",
      "userId": "08262452322628430763"
     },
     "user_tz": 420
    },
    "id": "Dmjq4HmPsU7J",
    "outputId": "74d863d4-6782-43aa-f9a3-26c7425b1b98"
   },
   "outputs": [
    {
     "name": "stdout",
     "output_type": "stream",
     "text": [
      "SVC accuracy Score:  84.75\n"
     ]
    }
   ],
   "source": [
    "score_svc = accuracy_score(y_test, y_pred)*100\n",
    "print(\"SVC accuracy Score: \", score_svc)"
   ]
  },
  {
   "cell_type": "markdown",
   "id": "FUQyEf2dtvVi",
   "metadata": {
    "id": "FUQyEf2dtvVi"
   },
   "source": [
    "\n",
    "## Ada Boost Classifier"
   ]
  },
  {
   "cell_type": "code",
   "execution_count": 28,
   "id": "UPneER10tt5o",
   "metadata": {
    "colab": {
     "base_uri": "https://localhost:8080/"
    },
    "executionInfo": {
     "elapsed": 256,
     "status": "ok",
     "timestamp": 1637382276969,
     "user": {
      "displayName": "Adrian Emilio Vazquez Icedo",
      "photoUrl": "https://lh3.googleusercontent.com/a-/AOh14GgJzA6ST7SXJztqFBiGH9sYJ4cvHZi7Bjp1RJuwnA=s64",
      "userId": "08262452322628430763"
     },
     "user_tz": 420
    },
    "id": "UPneER10tt5o",
    "outputId": "de9f3e59-3c6f-48d0-e9a9-66cfd5b28c41"
   },
   "outputs": [
    {
     "data": {
      "text/plain": [
       "AdaBoostClassifier()"
      ]
     },
     "execution_count": 28,
     "metadata": {},
     "output_type": "execute_result"
    }
   ],
   "source": [
    "from sklearn.ensemble import AdaBoostClassifier\n",
    "adb = AdaBoostClassifier(base_estimator = None)\n",
    "adb.fit(x_train, y_train)"
   ]
  },
  {
   "cell_type": "code",
   "execution_count": 29,
   "id": "rzL5PwbzuFOT",
   "metadata": {
    "colab": {
     "base_uri": "https://localhost:8080/"
    },
    "executionInfo": {
     "elapsed": 267,
     "status": "ok",
     "timestamp": 1637382277230,
     "user": {
      "displayName": "Adrian Emilio Vazquez Icedo",
      "photoUrl": "https://lh3.googleusercontent.com/a-/AOh14GgJzA6ST7SXJztqFBiGH9sYJ4cvHZi7Bjp1RJuwnA=s64",
      "userId": "08262452322628430763"
     },
     "user_tz": 420
    },
    "id": "rzL5PwbzuFOT",
    "outputId": "82f71c6b-796f-4b2a-c997-82dec7aa11c8"
   },
   "outputs": [
    {
     "name": "stdout",
     "output_type": "stream",
     "text": [
      "              precision    recall  f1-score   support\n",
      "\n",
      "        High       0.38      0.69      0.49        45\n",
      "         Low       0.10      0.19      0.13        16\n",
      "      Medium       0.91      0.78      0.84       339\n",
      "\n",
      "    accuracy                           0.74       400\n",
      "   macro avg       0.46      0.55      0.49       400\n",
      "weighted avg       0.82      0.74      0.77       400\n",
      "\n",
      "[[ 31   0  14]\n",
      " [  0   3  13]\n",
      " [ 50  26 263]]\n",
      "Training Score:  75.31276063386156\n",
      "Testing Score:  74.25\n"
     ]
    }
   ],
   "source": [
    "y_pred = adb.predict(x_test)\n",
    "from sklearn.metrics import classification_report, confusion_matrix, accuracy_score, mean_squared_error, r2_score\n",
    "print(classification_report(y_test, y_pred))\n",
    "print(confusion_matrix(y_test, y_pred))\n",
    "print(\"Training Score: \", adb.score(x_train, y_train)*100)\n",
    "print(\"Testing Score: \", adb.score(x_test, y_test)*100)"
   ]
  },
  {
   "cell_type": "code",
   "execution_count": 30,
   "id": "--5pWblvuMYr",
   "metadata": {
    "colab": {
     "base_uri": "https://localhost:8080/"
    },
    "executionInfo": {
     "elapsed": 4,
     "status": "ok",
     "timestamp": 1637382277230,
     "user": {
      "displayName": "Adrian Emilio Vazquez Icedo",
      "photoUrl": "https://lh3.googleusercontent.com/a-/AOh14GgJzA6ST7SXJztqFBiGH9sYJ4cvHZi7Bjp1RJuwnA=s64",
      "userId": "08262452322628430763"
     },
     "user_tz": 420
    },
    "id": "--5pWblvuMYr",
    "outputId": "5bfd7616-f78d-43bc-c3b5-6f2d67512cb9"
   },
   "outputs": [
    {
     "name": "stdout",
     "output_type": "stream",
     "text": [
      "Ada Boost accuracy Score:  74.25\n"
     ]
    }
   ],
   "source": [
    "score_ada = accuracy_score(y_test, y_pred)*100\n",
    "print(\"Ada Boost accuracy Score: \", score_ada)"
   ]
  },
  {
   "cell_type": "markdown",
   "id": "zq5Sc0-TueK1",
   "metadata": {
    "id": "zq5Sc0-TueK1"
   },
   "source": [
    "\n",
    "## Gradient Boosting Classifier"
   ]
  },
  {
   "cell_type": "code",
   "execution_count": 31,
   "id": "P1tqBzWouwU-",
   "metadata": {
    "colab": {
     "base_uri": "https://localhost:8080/"
    },
    "executionInfo": {
     "elapsed": 874,
     "status": "ok",
     "timestamp": 1637382278103,
     "user": {
      "displayName": "Adrian Emilio Vazquez Icedo",
      "photoUrl": "https://lh3.googleusercontent.com/a-/AOh14GgJzA6ST7SXJztqFBiGH9sYJ4cvHZi7Bjp1RJuwnA=s64",
      "userId": "08262452322628430763"
     },
     "user_tz": 420
    },
    "id": "P1tqBzWouwU-",
    "outputId": "e1f8a1ac-e079-4581-aee0-41c3d11b9db5"
   },
   "outputs": [
    {
     "data": {
      "text/plain": [
       "GradientBoostingClassifier()"
      ]
     },
     "execution_count": 31,
     "metadata": {},
     "output_type": "execute_result"
    }
   ],
   "source": [
    "from sklearn.ensemble import GradientBoostingClassifier\n",
    "gbc = GradientBoostingClassifier()\n",
    "gbc.fit(x_train, y_train)"
   ]
  },
  {
   "cell_type": "code",
   "execution_count": 32,
   "id": "C9HYCekOu0xc",
   "metadata": {
    "colab": {
     "base_uri": "https://localhost:8080/"
    },
    "executionInfo": {
     "elapsed": 5,
     "status": "ok",
     "timestamp": 1637382278103,
     "user": {
      "displayName": "Adrian Emilio Vazquez Icedo",
      "photoUrl": "https://lh3.googleusercontent.com/a-/AOh14GgJzA6ST7SXJztqFBiGH9sYJ4cvHZi7Bjp1RJuwnA=s64",
      "userId": "08262452322628430763"
     },
     "user_tz": 420
    },
    "id": "C9HYCekOu0xc",
    "outputId": "a51cba6e-9778-4cf2-e041-aeb0e2b6cfde"
   },
   "outputs": [
    {
     "name": "stdout",
     "output_type": "stream",
     "text": [
      "              precision    recall  f1-score   support\n",
      "\n",
      "        High       0.63      0.58      0.60        45\n",
      "         Low       0.00      0.00      0.00        16\n",
      "      Medium       0.90      0.94      0.92       339\n",
      "\n",
      "    accuracy                           0.86       400\n",
      "   macro avg       0.51      0.51      0.51       400\n",
      "weighted avg       0.84      0.86      0.85       400\n",
      "\n",
      "[[ 26   0  19]\n",
      " [  0   0  16]\n",
      " [ 15   5 319]]\n",
      "Training Score:  96.66388657214345\n",
      "Testing Score:  86.25\n"
     ]
    }
   ],
   "source": [
    "y_pred=gbc.predict(x_test)\n",
    "from sklearn.metrics import classification_report, confusion_matrix, accuracy_score, mean_squared_error, r2_score\n",
    "print(classification_report(y_test, y_pred))\n",
    "print(confusion_matrix(y_test, y_pred))\n",
    "print(\"Training Score: \", gbc.score(x_train, y_train)*100)\n",
    "print(\"Testing Score: \", gbc.score(x_test, y_test)*100)"
   ]
  },
  {
   "cell_type": "code",
   "execution_count": 33,
   "id": "LPrgxR7Yu8J0",
   "metadata": {
    "colab": {
     "base_uri": "https://localhost:8080/"
    },
    "executionInfo": {
     "elapsed": 3,
     "status": "ok",
     "timestamp": 1637382278103,
     "user": {
      "displayName": "Adrian Emilio Vazquez Icedo",
      "photoUrl": "https://lh3.googleusercontent.com/a-/AOh14GgJzA6ST7SXJztqFBiGH9sYJ4cvHZi7Bjp1RJuwnA=s64",
      "userId": "08262452322628430763"
     },
     "user_tz": 420
    },
    "id": "LPrgxR7Yu8J0",
    "outputId": "3466c87d-7d1a-4337-8527-811e051924f8"
   },
   "outputs": [
    {
     "name": "stdout",
     "output_type": "stream",
     "text": [
      "Gradient Boosting accuracy Score:  86.25\n"
     ]
    }
   ],
   "source": [
    "score_gb = accuracy_score(y_test, y_pred)*100\n",
    "print(\"Gradient Boosting accuracy Score: \", score_gb)"
   ]
  },
  {
   "cell_type": "markdown",
   "id": "8r3dr35Z_Ken",
   "metadata": {
    "id": "8r3dr35Z_Ken"
   },
   "source": [
    "\n",
    "## XGB Classifier"
   ]
  },
  {
   "cell_type": "code",
   "execution_count": 34,
   "id": "OOUsq_YU_PZ6",
   "metadata": {
    "colab": {
     "base_uri": "https://localhost:8080/"
    },
    "executionInfo": {
     "elapsed": 872,
     "status": "ok",
     "timestamp": 1637382278973,
     "user": {
      "displayName": "Adrian Emilio Vazquez Icedo",
      "photoUrl": "https://lh3.googleusercontent.com/a-/AOh14GgJzA6ST7SXJztqFBiGH9sYJ4cvHZi7Bjp1RJuwnA=s64",
      "userId": "08262452322628430763"
     },
     "user_tz": 420
    },
    "id": "OOUsq_YU_PZ6",
    "outputId": "53433db2-559b-414a-e068-0a49f3603f71"
   },
   "outputs": [
    {
     "name": "stdout",
     "output_type": "stream",
     "text": [
      "[22:41:55] WARNING: C:/Users/Administrator/workspace/xgboost-win64_release_1.5.1/src/learner.cc:1115: Starting in XGBoost 1.3.0, the default evaluation metric used with the objective 'multi:softprob' was changed from 'merror' to 'mlogloss'. Explicitly set eval_metric if you'd like to restore the old behavior.\n"
     ]
    },
    {
     "name": "stderr",
     "output_type": "stream",
     "text": [
      "C:\\Users\\avazq\\anaconda3\\lib\\site-packages\\xgboost\\sklearn.py:1224: UserWarning: The use of label encoder in XGBClassifier is deprecated and will be removed in a future release. To remove this warning, do the following: 1) Pass option use_label_encoder=False when constructing XGBClassifier object; and 2) Encode your labels (y) as integers starting with 0, i.e. 0, 1, 2, ..., [num_class - 1].\n",
      "  warnings.warn(label_encoder_deprecation_msg, UserWarning)\n"
     ]
    },
    {
     "data": {
      "text/plain": [
       "XGBClassifier(alpha=10, base_score=0.5, booster='gbtree', colsample_bylevel=1,\n",
       "              colsample_bynode=1, colsample_bytree=0.3,\n",
       "              enable_categorical=False, gamma=0, gpu_id=-1,\n",
       "              importance_type=None, interaction_constraints='',\n",
       "              learning_rate=0.1, max_delta_step=0, max_depth=5,\n",
       "              min_child_weight=1, missing=nan, monotone_constraints='()',\n",
       "              n_estimators=10, n_jobs=12, num_parallel_tree=1,\n",
       "              objective='multi:softprob', predictor='auto', random_state=0,\n",
       "              reg_alpha=10, reg_lambda=1, scale_pos_weight=None, subsample=1,\n",
       "              tree_method='exact', validate_parameters=1, verbosity=None)"
      ]
     },
     "execution_count": 34,
     "metadata": {},
     "output_type": "execute_result"
    }
   ],
   "source": [
    "from xgboost import XGBClassifier\n",
    "\n",
    "xgb = XGBClassifier(objective ='reg:linear', colsample_bytree = 0.3, learning_rate = 0.1,\n",
    "                max_depth = 5, alpha = 10, n_estimators = 10)\n",
    "\n",
    "xgb.fit(x_train, y_train)"
   ]
  },
  {
   "cell_type": "code",
   "execution_count": 35,
   "id": "o-9Zk5cJ_c9h",
   "metadata": {
    "colab": {
     "base_uri": "https://localhost:8080/"
    },
    "executionInfo": {
     "elapsed": 18,
     "status": "ok",
     "timestamp": 1637382278974,
     "user": {
      "displayName": "Adrian Emilio Vazquez Icedo",
      "photoUrl": "https://lh3.googleusercontent.com/a-/AOh14GgJzA6ST7SXJztqFBiGH9sYJ4cvHZi7Bjp1RJuwnA=s64",
      "userId": "08262452322628430763"
     },
     "user_tz": 420
    },
    "id": "o-9Zk5cJ_c9h",
    "outputId": "89e1e6a6-3d4e-4b83-8593-9d9a429c521c"
   },
   "outputs": [
    {
     "name": "stdout",
     "output_type": "stream",
     "text": [
      "              precision    recall  f1-score   support\n",
      "\n",
      "        High       1.00      0.02      0.04        45\n",
      "         Low       0.00      0.00      0.00        16\n",
      "      Medium       0.85      1.00      0.92       339\n",
      "\n",
      "    accuracy                           0.85       400\n",
      "   macro avg       0.62      0.34      0.32       400\n",
      "weighted avg       0.83      0.85      0.78       400\n",
      "\n",
      "[[  1   0  44]\n",
      " [  0   0  16]\n",
      " [  0   0 339]]\n",
      "Training Score:  81.81818181818183\n",
      "Testing Score:  85.0\n"
     ]
    },
    {
     "name": "stderr",
     "output_type": "stream",
     "text": [
      "C:\\Users\\avazq\\anaconda3\\lib\\site-packages\\sklearn\\metrics\\_classification.py:1245: UndefinedMetricWarning: Precision and F-score are ill-defined and being set to 0.0 in labels with no predicted samples. Use `zero_division` parameter to control this behavior.\n",
      "  _warn_prf(average, modifier, msg_start, len(result))\n",
      "C:\\Users\\avazq\\anaconda3\\lib\\site-packages\\sklearn\\metrics\\_classification.py:1245: UndefinedMetricWarning: Precision and F-score are ill-defined and being set to 0.0 in labels with no predicted samples. Use `zero_division` parameter to control this behavior.\n",
      "  _warn_prf(average, modifier, msg_start, len(result))\n",
      "C:\\Users\\avazq\\anaconda3\\lib\\site-packages\\sklearn\\metrics\\_classification.py:1245: UndefinedMetricWarning: Precision and F-score are ill-defined and being set to 0.0 in labels with no predicted samples. Use `zero_division` parameter to control this behavior.\n",
      "  _warn_prf(average, modifier, msg_start, len(result))\n"
     ]
    }
   ],
   "source": [
    "y_pred = xgb.predict(x_test)\n",
    "from sklearn.metrics import classification_report, confusion_matrix, accuracy_score, mean_squared_error, r2_score\n",
    "print(classification_report(y_test, y_pred))\n",
    "print(confusion_matrix(y_test, y_pred))\n",
    "print(\"Training Score: \", xgb.score(x_train, y_train)*100)\n",
    "print(\"Testing Score: \", xgb.score(x_test, y_test)*100)"
   ]
  },
  {
   "cell_type": "code",
   "execution_count": 36,
   "id": "KT3yC1oG_odA",
   "metadata": {
    "colab": {
     "base_uri": "https://localhost:8080/"
    },
    "executionInfo": {
     "elapsed": 15,
     "status": "ok",
     "timestamp": 1637382278974,
     "user": {
      "displayName": "Adrian Emilio Vazquez Icedo",
      "photoUrl": "https://lh3.googleusercontent.com/a-/AOh14GgJzA6ST7SXJztqFBiGH9sYJ4cvHZi7Bjp1RJuwnA=s64",
      "userId": "08262452322628430763"
     },
     "user_tz": 420
    },
    "id": "KT3yC1oG_odA",
    "outputId": "b2954178-2a9f-485f-a874-1d5678fbc800"
   },
   "outputs": [
    {
     "name": "stdout",
     "output_type": "stream",
     "text": [
      "XGB accuracy Score:  85.0\n"
     ]
    }
   ],
   "source": [
    "score_xgb = accuracy_score(y_test, y_pred)*100\n",
    "print(\"XGB accuracy Score: \", score_xgb)"
   ]
  },
  {
   "cell_type": "markdown",
   "id": "pwRo8TCCAJgD",
   "metadata": {
    "id": "pwRo8TCCAJgD"
   },
   "source": [
    "\n",
    "## Naive Bayes"
   ]
  },
  {
   "cell_type": "code",
   "execution_count": 37,
   "id": "DFkkjOdJAO8v",
   "metadata": {
    "colab": {
     "base_uri": "https://localhost:8080/"
    },
    "executionInfo": {
     "elapsed": 13,
     "status": "ok",
     "timestamp": 1637382278974,
     "user": {
      "displayName": "Adrian Emilio Vazquez Icedo",
      "photoUrl": "https://lh3.googleusercontent.com/a-/AOh14GgJzA6ST7SXJztqFBiGH9sYJ4cvHZi7Bjp1RJuwnA=s64",
      "userId": "08262452322628430763"
     },
     "user_tz": 420
    },
    "id": "DFkkjOdJAO8v",
    "outputId": "1a6701a0-152a-4d3b-ae84-d290a739d87d"
   },
   "outputs": [
    {
     "data": {
      "text/plain": [
       "GaussianNB()"
      ]
     },
     "execution_count": 37,
     "metadata": {},
     "output_type": "execute_result"
    }
   ],
   "source": [
    "from sklearn.naive_bayes import GaussianNB\n",
    "gnb = GaussianNB()\n",
    "gnb.fit(x_train,y_train)"
   ]
  },
  {
   "cell_type": "code",
   "execution_count": 38,
   "id": "RJ4L87X8APPl",
   "metadata": {
    "colab": {
     "base_uri": "https://localhost:8080/"
    },
    "executionInfo": {
     "elapsed": 13,
     "status": "ok",
     "timestamp": 1637382278975,
     "user": {
      "displayName": "Adrian Emilio Vazquez Icedo",
      "photoUrl": "https://lh3.googleusercontent.com/a-/AOh14GgJzA6ST7SXJztqFBiGH9sYJ4cvHZi7Bjp1RJuwnA=s64",
      "userId": "08262452322628430763"
     },
     "user_tz": 420
    },
    "id": "RJ4L87X8APPl",
    "outputId": "166ef41b-42c8-4bea-8544-2f6b21fa4dfa"
   },
   "outputs": [
    {
     "name": "stdout",
     "output_type": "stream",
     "text": [
      "              precision    recall  f1-score   support\n",
      "\n",
      "        High       0.38      0.71      0.49        45\n",
      "         Low       0.00      0.00      0.00        16\n",
      "      Medium       0.91      0.82      0.86       339\n",
      "\n",
      "    accuracy                           0.77       400\n",
      "   macro avg       0.43      0.51      0.45       400\n",
      "weighted avg       0.81      0.77      0.78       400\n",
      "\n",
      "[[ 32   0  13]\n",
      " [  0   0  16]\n",
      " [ 53   9 277]]\n",
      "0.7725\n",
      "Training Score:  78.0650542118432\n",
      "Testing Score:  77.25\n"
     ]
    }
   ],
   "source": [
    "y_pred = gnb.predict(x_test)\n",
    "from sklearn.metrics import classification_report, confusion_matrix, accuracy_score, mean_squared_error, r2_score\n",
    "print(classification_report(y_test, y_pred))\n",
    "print(confusion_matrix(y_test, y_pred))\n",
    "print(accuracy_score(y_test, y_pred))\n",
    "print(\"Training Score: \",gnb.score(x_train, y_train)*100)\n",
    "print(\"Testing Score: \", gnb.score(x_test, y_test)*100)"
   ]
  },
  {
   "cell_type": "code",
   "execution_count": 39,
   "id": "byj5RSkTAr8X",
   "metadata": {
    "colab": {
     "base_uri": "https://localhost:8080/"
    },
    "executionInfo": {
     "elapsed": 12,
     "status": "ok",
     "timestamp": 1637382278975,
     "user": {
      "displayName": "Adrian Emilio Vazquez Icedo",
      "photoUrl": "https://lh3.googleusercontent.com/a-/AOh14GgJzA6ST7SXJztqFBiGH9sYJ4cvHZi7Bjp1RJuwnA=s64",
      "userId": "08262452322628430763"
     },
     "user_tz": 420
    },
    "id": "byj5RSkTAr8X",
    "outputId": "d22d5695-748a-48ae-f9ee-e6ad47a069fb"
   },
   "outputs": [
    {
     "name": "stdout",
     "output_type": "stream",
     "text": [
      "Naive Bayes accuracy Score:  77.25\n"
     ]
    }
   ],
   "source": [
    "score_nb = accuracy_score(y_test, y_pred)*100\n",
    "print(\"Naive Bayes accuracy Score: \", score_nb)"
   ]
  },
  {
   "cell_type": "markdown",
   "id": "pRVQcHM2KrQQ",
   "metadata": {
    "id": "pRVQcHM2KrQQ"
   },
   "source": [
    "### Resumen con los resultados"
   ]
  },
  {
   "cell_type": "code",
   "execution_count": 40,
   "id": "dGGF74LpKuSB",
   "metadata": {
    "id": "dGGF74LpKuSB"
   },
   "outputs": [],
   "source": [
    "abstract = pd.DataFrame({\"Model\":['Logistic Regression','KNN Classifier','Decision Tree Classifier', 'Random Forest Classifier', \n",
    "                                'SVC Classifier','AdaBoost Classifier', 'Gradient Boosting Classifier','XGB Classifier',\n",
    "                                'Naive Bayes Classifier'],\n",
    "                      \"Accuracy\":[score_lr, score_knn, score_ds, score_rf, score_svc, score_ada, score_gb, score_xgb, score_nb]})"
   ]
  },
  {
   "cell_type": "code",
   "execution_count": 41,
   "id": "iX8wM6iMRYjt",
   "metadata": {
    "colab": {
     "base_uri": "https://localhost:8080/"
    },
    "executionInfo": {
     "elapsed": 11,
     "status": "ok",
     "timestamp": 1637382278976,
     "user": {
      "displayName": "Adrian Emilio Vazquez Icedo",
      "photoUrl": "https://lh3.googleusercontent.com/a-/AOh14GgJzA6ST7SXJztqFBiGH9sYJ4cvHZi7Bjp1RJuwnA=s64",
      "userId": "08262452322628430763"
     },
     "user_tz": 420
    },
    "id": "iX8wM6iMRYjt",
    "outputId": "c65789cf-0242-44c4-fa2d-5bc6044ab2d7"
   },
   "outputs": [
    {
     "name": "stdout",
     "output_type": "stream",
     "text": [
      "                          Model  Accuracy\n",
      "0           Logistic Regression     86.00\n",
      "1                KNN Classifier     80.50\n",
      "2      Decision Tree Classifier     82.50\n",
      "3      Random Forest Classifier     88.75\n",
      "4                SVC Classifier     84.75\n",
      "5           AdaBoost Classifier     74.25\n",
      "6  Gradient Boosting Classifier     86.25\n",
      "7                XGB Classifier     85.00\n",
      "8        Naive Bayes Classifier     77.25\n"
     ]
    }
   ],
   "source": [
    "print(abstract)"
   ]
  },
  {
   "cell_type": "markdown",
   "id": "HQLXPfljLWgP",
   "metadata": {
    "id": "HQLXPfljLWgP"
   },
   "source": [
    "Por Adilene Calderón, Aaron Lara, Adrían Vázquez. Introducción a la Ciencia de Datos y sus Metodologías. [MCD UNISON](https://mcd.unison.mx)"
   ]
  },
  {
   "cell_type": "markdown",
   "id": "Bnm7-bgMLXj8",
   "metadata": {
    "id": "Bnm7-bgMLXj8"
   },
   "source": [
    "## Referencias\n",
    "I_Prerna_Kalura(2021). Breast cancer solution. https://www.kaggle.com/iprernakalura/breast-cancer-solution\n",
    "\n",
    "https://www.datacamp.com/community/tutorials/k-nearest-neighbor-classification-scikit-learn\n",
    "\n",
    "https://scikit-learn.org/stable/modules/generated/sklearn.neighbors.KNeighborsClassifier.html\n",
    "\n",
    "\n",
    "https://www.datacamp.com/community/tutorials/decision-tree-classification-python\n",
    "\n",
    "https://scikit-learn.org/stable/modules/tree.html\n",
    "\n",
    "https://www.kaggle.com/madhurisivalenka/basic-machine-learning-with-red-wine-quality-data\n"
   ]
  }
 ],
 "metadata": {
  "colab": {
   "collapsed_sections": [],
   "name": "wine_Models.ipynb",
   "provenance": [
    {
     "file_id": "1syprpuEs4ae3X-j86DL4fM5paNY8WwuI",
     "timestamp": 1637130113979
    },
    {
     "file_id": "1YDQoUZKAZ9-jsGbcqBSdYPCqsWt9DHNJ",
     "timestamp": 1634351118113
    }
   ]
  },
  "kernelspec": {
   "display_name": "Python 3",
   "language": "python",
   "name": "python3"
  },
  "language_info": {
   "codemirror_mode": {
    "name": "ipython",
    "version": 3
   },
   "file_extension": ".py",
   "mimetype": "text/x-python",
   "name": "python",
   "nbconvert_exporter": "python",
   "pygments_lexer": "ipython3",
   "version": "3.8.8"
  }
 },
 "nbformat": 4,
 "nbformat_minor": 5
}
