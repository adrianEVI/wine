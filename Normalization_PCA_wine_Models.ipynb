{
 "cells": [
  {
   "cell_type": "code",
   "execution_count": 1,
   "id": "c8ea99ba",
   "metadata": {
    "id": "c8ea99ba"
   },
   "outputs": [],
   "source": [
    "import pandas as pd\n",
    "import numpy as np\n",
    "import matplotlib as plt\n",
    "import plotly.express as px\n",
    "import seaborn as sns\n",
    "from matplotlib import pyplot\n",
    "%matplotlib inline"
   ]
  },
  {
   "cell_type": "markdown",
   "id": "8ap3n-xNpKSg",
   "metadata": {
    "id": "8ap3n-xNpKSg"
   },
   "source": [
    "# Compresión de los datos\n",
    "## Recoleccion de los datos iniciales\n",
    "\n",
    "Los datos utilizados son referentes a la calidad de la produccion de vinos. \n",
    "\n",
    "\n",
    "Los datos se obtuvieron de: https://archive.ics.uci.edu/ml/machine-learning-databases/wine-quality/winequality-red.csv\n"
   ]
  },
  {
   "cell_type": "markdown",
   "id": "yyTU6L24qMJ2",
   "metadata": {
    "id": "yyTU6L24qMJ2"
   },
   "source": [
    "## Descripción de los datos\n",
    "\n",
    "Los datos se encuentran almacenados en archivos Excel (.csv) y se manipularan mediante Python."
   ]
  },
  {
   "cell_type": "code",
   "execution_count": 2,
   "id": "c41da300",
   "metadata": {
    "colab": {
     "base_uri": "https://localhost:8080/",
     "height": 424
    },
    "executionInfo": {
     "elapsed": 233,
     "status": "ok",
     "timestamp": 1637180371841,
     "user": {
      "displayName": "Adrian Emilio Vazquez Icedo",
      "photoUrl": "https://lh3.googleusercontent.com/a-/AOh14GgJzA6ST7SXJztqFBiGH9sYJ4cvHZi7Bjp1RJuwnA=s64",
      "userId": "08262452322628430763"
     },
     "user_tz": 420
    },
    "id": "c41da300",
    "outputId": "447ff471-179d-4cc2-f7e4-2de55e273ece",
    "scrolled": true
   },
   "outputs": [
    {
     "data": {
      "text/html": [
       "<div>\n",
       "<style scoped>\n",
       "    .dataframe tbody tr th:only-of-type {\n",
       "        vertical-align: middle;\n",
       "    }\n",
       "\n",
       "    .dataframe tbody tr th {\n",
       "        vertical-align: top;\n",
       "    }\n",
       "\n",
       "    .dataframe thead th {\n",
       "        text-align: right;\n",
       "    }\n",
       "</style>\n",
       "<table border=\"1\" class=\"dataframe\">\n",
       "  <thead>\n",
       "    <tr style=\"text-align: right;\">\n",
       "      <th></th>\n",
       "      <th>Unnamed: 0</th>\n",
       "      <th>fixed acidity</th>\n",
       "      <th>volatile acidity</th>\n",
       "      <th>citric acid</th>\n",
       "      <th>residual sugar</th>\n",
       "      <th>chlorides</th>\n",
       "      <th>free sulfur dioxide</th>\n",
       "      <th>total sulfur dioxide</th>\n",
       "      <th>density</th>\n",
       "      <th>pH</th>\n",
       "      <th>sulphates</th>\n",
       "      <th>alcohol</th>\n",
       "      <th>quality</th>\n",
       "      <th>quality_binned</th>\n",
       "    </tr>\n",
       "  </thead>\n",
       "  <tbody>\n",
       "    <tr>\n",
       "      <th>0</th>\n",
       "      <td>0</td>\n",
       "      <td>7.4</td>\n",
       "      <td>0.700</td>\n",
       "      <td>0.00</td>\n",
       "      <td>1.9</td>\n",
       "      <td>0.076</td>\n",
       "      <td>11.0</td>\n",
       "      <td>34.0</td>\n",
       "      <td>0.99780</td>\n",
       "      <td>3.51</td>\n",
       "      <td>0.56</td>\n",
       "      <td>9.4</td>\n",
       "      <td>5</td>\n",
       "      <td>Medium</td>\n",
       "    </tr>\n",
       "    <tr>\n",
       "      <th>1</th>\n",
       "      <td>1</td>\n",
       "      <td>7.8</td>\n",
       "      <td>0.880</td>\n",
       "      <td>0.00</td>\n",
       "      <td>2.6</td>\n",
       "      <td>0.098</td>\n",
       "      <td>25.0</td>\n",
       "      <td>67.0</td>\n",
       "      <td>0.99680</td>\n",
       "      <td>3.20</td>\n",
       "      <td>0.68</td>\n",
       "      <td>9.8</td>\n",
       "      <td>5</td>\n",
       "      <td>Medium</td>\n",
       "    </tr>\n",
       "    <tr>\n",
       "      <th>2</th>\n",
       "      <td>2</td>\n",
       "      <td>7.8</td>\n",
       "      <td>0.760</td>\n",
       "      <td>0.04</td>\n",
       "      <td>2.3</td>\n",
       "      <td>0.092</td>\n",
       "      <td>15.0</td>\n",
       "      <td>54.0</td>\n",
       "      <td>0.99700</td>\n",
       "      <td>3.26</td>\n",
       "      <td>0.65</td>\n",
       "      <td>9.8</td>\n",
       "      <td>5</td>\n",
       "      <td>Medium</td>\n",
       "    </tr>\n",
       "    <tr>\n",
       "      <th>3</th>\n",
       "      <td>3</td>\n",
       "      <td>11.2</td>\n",
       "      <td>0.280</td>\n",
       "      <td>0.56</td>\n",
       "      <td>1.9</td>\n",
       "      <td>0.075</td>\n",
       "      <td>17.0</td>\n",
       "      <td>60.0</td>\n",
       "      <td>0.99800</td>\n",
       "      <td>3.16</td>\n",
       "      <td>0.58</td>\n",
       "      <td>9.8</td>\n",
       "      <td>6</td>\n",
       "      <td>Medium</td>\n",
       "    </tr>\n",
       "    <tr>\n",
       "      <th>4</th>\n",
       "      <td>4</td>\n",
       "      <td>7.4</td>\n",
       "      <td>0.700</td>\n",
       "      <td>0.00</td>\n",
       "      <td>1.9</td>\n",
       "      <td>0.076</td>\n",
       "      <td>11.0</td>\n",
       "      <td>34.0</td>\n",
       "      <td>0.99780</td>\n",
       "      <td>3.51</td>\n",
       "      <td>0.56</td>\n",
       "      <td>9.4</td>\n",
       "      <td>5</td>\n",
       "      <td>Medium</td>\n",
       "    </tr>\n",
       "    <tr>\n",
       "      <th>...</th>\n",
       "      <td>...</td>\n",
       "      <td>...</td>\n",
       "      <td>...</td>\n",
       "      <td>...</td>\n",
       "      <td>...</td>\n",
       "      <td>...</td>\n",
       "      <td>...</td>\n",
       "      <td>...</td>\n",
       "      <td>...</td>\n",
       "      <td>...</td>\n",
       "      <td>...</td>\n",
       "      <td>...</td>\n",
       "      <td>...</td>\n",
       "      <td>...</td>\n",
       "    </tr>\n",
       "    <tr>\n",
       "      <th>1594</th>\n",
       "      <td>1594</td>\n",
       "      <td>6.2</td>\n",
       "      <td>0.600</td>\n",
       "      <td>0.08</td>\n",
       "      <td>2.0</td>\n",
       "      <td>0.090</td>\n",
       "      <td>32.0</td>\n",
       "      <td>44.0</td>\n",
       "      <td>0.99490</td>\n",
       "      <td>3.45</td>\n",
       "      <td>0.58</td>\n",
       "      <td>10.5</td>\n",
       "      <td>5</td>\n",
       "      <td>Medium</td>\n",
       "    </tr>\n",
       "    <tr>\n",
       "      <th>1595</th>\n",
       "      <td>1595</td>\n",
       "      <td>5.9</td>\n",
       "      <td>0.550</td>\n",
       "      <td>0.10</td>\n",
       "      <td>2.2</td>\n",
       "      <td>0.062</td>\n",
       "      <td>39.0</td>\n",
       "      <td>51.0</td>\n",
       "      <td>0.99512</td>\n",
       "      <td>3.52</td>\n",
       "      <td>0.76</td>\n",
       "      <td>11.2</td>\n",
       "      <td>6</td>\n",
       "      <td>Medium</td>\n",
       "    </tr>\n",
       "    <tr>\n",
       "      <th>1596</th>\n",
       "      <td>1596</td>\n",
       "      <td>6.3</td>\n",
       "      <td>0.510</td>\n",
       "      <td>0.13</td>\n",
       "      <td>2.3</td>\n",
       "      <td>0.076</td>\n",
       "      <td>29.0</td>\n",
       "      <td>40.0</td>\n",
       "      <td>0.99574</td>\n",
       "      <td>3.42</td>\n",
       "      <td>0.75</td>\n",
       "      <td>11.0</td>\n",
       "      <td>6</td>\n",
       "      <td>Medium</td>\n",
       "    </tr>\n",
       "    <tr>\n",
       "      <th>1597</th>\n",
       "      <td>1597</td>\n",
       "      <td>5.9</td>\n",
       "      <td>0.645</td>\n",
       "      <td>0.12</td>\n",
       "      <td>2.0</td>\n",
       "      <td>0.075</td>\n",
       "      <td>32.0</td>\n",
       "      <td>44.0</td>\n",
       "      <td>0.99547</td>\n",
       "      <td>3.57</td>\n",
       "      <td>0.71</td>\n",
       "      <td>10.2</td>\n",
       "      <td>5</td>\n",
       "      <td>Medium</td>\n",
       "    </tr>\n",
       "    <tr>\n",
       "      <th>1598</th>\n",
       "      <td>1598</td>\n",
       "      <td>6.0</td>\n",
       "      <td>0.310</td>\n",
       "      <td>0.47</td>\n",
       "      <td>3.6</td>\n",
       "      <td>0.067</td>\n",
       "      <td>18.0</td>\n",
       "      <td>42.0</td>\n",
       "      <td>0.99549</td>\n",
       "      <td>3.39</td>\n",
       "      <td>0.66</td>\n",
       "      <td>11.0</td>\n",
       "      <td>6</td>\n",
       "      <td>Medium</td>\n",
       "    </tr>\n",
       "  </tbody>\n",
       "</table>\n",
       "<p>1599 rows × 14 columns</p>\n",
       "</div>"
      ],
      "text/plain": [
       "      Unnamed: 0  fixed acidity  volatile acidity  citric acid  \\\n",
       "0              0            7.4             0.700         0.00   \n",
       "1              1            7.8             0.880         0.00   \n",
       "2              2            7.8             0.760         0.04   \n",
       "3              3           11.2             0.280         0.56   \n",
       "4              4            7.4             0.700         0.00   \n",
       "...          ...            ...               ...          ...   \n",
       "1594        1594            6.2             0.600         0.08   \n",
       "1595        1595            5.9             0.550         0.10   \n",
       "1596        1596            6.3             0.510         0.13   \n",
       "1597        1597            5.9             0.645         0.12   \n",
       "1598        1598            6.0             0.310         0.47   \n",
       "\n",
       "      residual sugar  chlorides  free sulfur dioxide  total sulfur dioxide  \\\n",
       "0                1.9      0.076                 11.0                  34.0   \n",
       "1                2.6      0.098                 25.0                  67.0   \n",
       "2                2.3      0.092                 15.0                  54.0   \n",
       "3                1.9      0.075                 17.0                  60.0   \n",
       "4                1.9      0.076                 11.0                  34.0   \n",
       "...              ...        ...                  ...                   ...   \n",
       "1594             2.0      0.090                 32.0                  44.0   \n",
       "1595             2.2      0.062                 39.0                  51.0   \n",
       "1596             2.3      0.076                 29.0                  40.0   \n",
       "1597             2.0      0.075                 32.0                  44.0   \n",
       "1598             3.6      0.067                 18.0                  42.0   \n",
       "\n",
       "      density    pH  sulphates  alcohol  quality quality_binned  \n",
       "0     0.99780  3.51       0.56      9.4        5         Medium  \n",
       "1     0.99680  3.20       0.68      9.8        5         Medium  \n",
       "2     0.99700  3.26       0.65      9.8        5         Medium  \n",
       "3     0.99800  3.16       0.58      9.8        6         Medium  \n",
       "4     0.99780  3.51       0.56      9.4        5         Medium  \n",
       "...       ...   ...        ...      ...      ...            ...  \n",
       "1594  0.99490  3.45       0.58     10.5        5         Medium  \n",
       "1595  0.99512  3.52       0.76     11.2        6         Medium  \n",
       "1596  0.99574  3.42       0.75     11.0        6         Medium  \n",
       "1597  0.99547  3.57       0.71     10.2        5         Medium  \n",
       "1598  0.99549  3.39       0.66     11.0        6         Medium  \n",
       "\n",
       "[1599 rows x 14 columns]"
      ]
     },
     "execution_count": 2,
     "metadata": {},
     "output_type": "execute_result"
    }
   ],
   "source": [
    "wine=pd.read_csv('wineEDA.csv', sep=',')\n",
    "wine"
   ]
  },
  {
   "cell_type": "markdown",
   "id": "gOW9G5aUKad9",
   "metadata": {
    "id": "gOW9G5aUKad9"
   },
   "source": [
    "## Reevaluar el modelo con datos normalizados"
   ]
  },
  {
   "cell_type": "markdown",
   "id": "XwGQhTDgXMEy",
   "metadata": {
    "id": "XwGQhTDgXMEy"
   },
   "source": [
    "Normalización de los Datos\n",
    "\n",
    "La normalización es el proceso de transformar los valores de algunas variables dentro de un rango similar. La normalización típica incluye el redimensionado de las variables para que el promedio sea 0 y la varianza 1, o para que los valores del rango sean entre 0 y 1."
   ]
  },
  {
   "cell_type": "code",
   "execution_count": 3,
   "id": "J02CPqCQXKmX",
   "metadata": {
    "id": "J02CPqCQXKmX"
   },
   "outputs": [],
   "source": [
    "# intercambia (valor original) por (valor original)/(valor máximo)\n",
    "wine['fixed acidity'] = wine['fixed acidity']/wine['fixed acidity'].max()\n",
    "wine['volatile acidity'] = wine['volatile acidity']/wine['volatile acidity'].max()\n",
    "wine['citric acid'] = wine['citric acid']/wine['citric acid'].max()\n",
    "wine['residual sugar'] = wine['residual sugar']/wine['residual sugar'].max()\n",
    "wine['chlorides'] = wine['chlorides']/wine['chlorides'].max()\n",
    "wine['free sulfur dioxide'] = wine['free sulfur dioxide']/wine['free sulfur dioxide'].max()\n",
    "wine['total sulfur dioxide'] = wine['total sulfur dioxide']/wine['total sulfur dioxide'].max()\n",
    "wine['density'] = wine['density']/wine['density'].max()\n",
    "wine['pH'] = wine['pH']/wine['pH'].max()\n",
    "wine['sulphates'] = wine['sulphates']/wine['sulphates'].max()\n",
    "wine['alcohol'] = wine['alcohol']/wine['alcohol'].max()"
   ]
  },
  {
   "cell_type": "markdown",
   "id": "lfy4bvy-FN-s",
   "metadata": {
    "id": "lfy4bvy-FN-s"
   },
   "source": [
    "\n",
    "## Análisis de Componentes Principales (PCA)\n"
   ]
  },
  {
   "cell_type": "markdown",
   "id": "rXG87swUG2sM",
   "metadata": {
    "id": "rXG87swUG2sM"
   },
   "source": [
    "Se realiza un análisis de los componentes principales"
   ]
  },
  {
   "cell_type": "code",
   "execution_count": 4,
   "id": "yGhVin08FiS7",
   "metadata": {
    "id": "yGhVin08FiS7"
   },
   "outputs": [],
   "source": [
    "x = wine.drop(columns= ['quality', 'quality_binned'])\n",
    "y = wine['quality_binned']"
   ]
  },
  {
   "cell_type": "markdown",
   "id": "gxJF3hIrHd9m",
   "metadata": {
    "id": "gxJF3hIrHd9m"
   },
   "source": [
    "Estandariza características removiendo la media y escalando a una variable unitaria"
   ]
  },
  {
   "cell_type": "code",
   "execution_count": 5,
   "id": "vs86grBC8Nqr",
   "metadata": {
    "colab": {
     "base_uri": "https://localhost:8080/"
    },
    "executionInfo": {
     "elapsed": 5,
     "status": "ok",
     "timestamp": 1637180372083,
     "user": {
      "displayName": "Adrian Emilio Vazquez Icedo",
      "photoUrl": "https://lh3.googleusercontent.com/a-/AOh14GgJzA6ST7SXJztqFBiGH9sYJ4cvHZi7Bjp1RJuwnA=s64",
      "userId": "08262452322628430763"
     },
     "user_tz": 420
    },
    "id": "vs86grBC8Nqr",
    "outputId": "91495127-2d46-442f-e42d-699ca15c10b5"
   },
   "outputs": [
    {
     "name": "stdout",
     "output_type": "stream",
     "text": [
      "[[-1.73096794 -0.52835961  0.96187667 ...  1.28864292 -0.57920652\n",
      "  -0.96024611]\n",
      " [-1.72880152 -0.29854743  1.96744245 ... -0.7199333   0.1289504\n",
      "  -0.58477711]\n",
      " [-1.7266351  -0.29854743  1.29706527 ... -0.33117661 -0.04808883\n",
      "  -0.58477711]\n",
      " ...\n",
      " [ 1.7266351  -1.1603431  -0.09955388 ...  0.70550789  0.54204194\n",
      "   0.54162988]\n",
      " [ 1.72880152 -1.39015528  0.65462046 ...  1.6773996   0.30598963\n",
      "  -0.20930812]\n",
      " [ 1.73096794 -1.33270223 -1.21684919 ...  0.51112954  0.01092425\n",
      "   0.54162988]]\n"
     ]
    }
   ],
   "source": [
    "from sklearn.preprocessing import StandardScaler\n",
    "sc = StandardScaler()\n",
    "x = sc.fit_transform(x)\n",
    "print(x)"
   ]
  },
  {
   "cell_type": "code",
   "execution_count": 6,
   "id": "umYfV6114yWg",
   "metadata": {
    "id": "umYfV6114yWg"
   },
   "outputs": [],
   "source": [
    "from sklearn.decomposition import PCA\n",
    "pca = PCA()\n",
    "x_pca = pca.fit_transform(x)"
   ]
  },
  {
   "cell_type": "markdown",
   "id": "xmAkKIwiH_2m",
   "metadata": {
    "id": "xmAkKIwiH_2m"
   },
   "source": [
    "Gráfica para visualizar los componentes principales"
   ]
  },
  {
   "cell_type": "code",
   "execution_count": 7,
   "id": "7j5Us9A_9GFO",
   "metadata": {
    "colab": {
     "base_uri": "https://localhost:8080/",
     "height": 320
    },
    "executionInfo": {
     "elapsed": 275,
     "status": "ok",
     "timestamp": 1637180372355,
     "user": {
      "displayName": "Adrian Emilio Vazquez Icedo",
      "photoUrl": "https://lh3.googleusercontent.com/a-/AOh14GgJzA6ST7SXJztqFBiGH9sYJ4cvHZi7Bjp1RJuwnA=s64",
      "userId": "08262452322628430763"
     },
     "user_tz": 420
    },
    "id": "7j5Us9A_9GFO",
    "outputId": "f895fe0b-616f-4523-dda1-7c51efa40d34"
   },
   "outputs": [
    {
     "data": {
      "image/png": "[encoded data removed]",
      "text/plain": [
       "<Figure size 360x360 with 1 Axes>"
      ]
     },
     "metadata": {
      "needs_background": "light"
     },
     "output_type": "display_data"
    }
   ],
   "source": [
    "#plot the graph to find the principal components\n",
    "pyplot.figure(figsize=(5,5))\n",
    "pyplot.plot(np.cumsum(pca.explained_variance_ratio_), 'ro-')\n",
    "pyplot.grid()"
   ]
  },
  {
   "cell_type": "code",
   "execution_count": 8,
   "id": "fmCPYgwY9Pz4",
   "metadata": {
    "id": "fmCPYgwY9Pz4"
   },
   "outputs": [],
   "source": [
    "#Se eligieron 8 componentes principales\n",
    "pca_new = PCA(n_components=8)\n",
    "x_new = pca_new.fit_transform(x)"
   ]
  },
  {
   "cell_type": "code",
   "execution_count": 9,
   "id": "2NXq0rJf63gR",
   "metadata": {
    "colab": {
     "base_uri": "https://localhost:8080/"
    },
    "executionInfo": {
     "elapsed": 8,
     "status": "ok",
     "timestamp": 1637180372356,
     "user": {
      "displayName": "Adrian Emilio Vazquez Icedo",
      "photoUrl": "https://lh3.googleusercontent.com/a-/AOh14GgJzA6ST7SXJztqFBiGH9sYJ4cvHZi7Bjp1RJuwnA=s64",
      "userId": "08262452322628430763"
     },
     "user_tz": 420
    },
    "id": "2NXq0rJf63gR",
    "outputId": "9385e44b-f478-4a71-fabf-b141d475f38a"
   },
   "outputs": [
    {
     "name": "stdout",
     "output_type": "stream",
     "text": [
      "[[-1.10503704  1.01738783 -2.23928527 ...  1.55757089 -0.25757413\n",
      "   0.03852203]\n",
      " [-0.31147729  2.23038887 -1.10113815 ...  0.64264773  1.51369661\n",
      "  -0.30310965]\n",
      " [-0.27670935  1.30491076 -1.49627925 ...  0.91764327  0.93835103\n",
      "   0.0340857 ]\n",
      " ...\n",
      " [-1.83311006  0.02614818  1.422036   ... -0.73639299 -0.75308498\n",
      "  -0.85309862]\n",
      " [-2.58477688  0.79211269  0.95249609 ... -0.65716789 -1.00202224\n",
      "  -1.02165416]\n",
      " [-0.87709224 -0.93222218  1.89664547 ... -0.65064108 -1.23110205\n",
      "   0.57016129]]\n"
     ]
    }
   ],
   "source": [
    "print(x_new)"
   ]
  },
  {
   "cell_type": "markdown",
   "id": "G9dY40LpIW-q",
   "metadata": {
    "id": "G9dY40LpIW-q"
   },
   "source": [
    "Como se puede observar en la gráfica, se pueden reducir las características que no influyen en el sistema"
   ]
  },
  {
   "cell_type": "markdown",
   "id": "p7QbqVSCJeNh",
   "metadata": {
    "id": "p7QbqVSCJeNh"
   },
   "source": [
    "# Modelado"
   ]
  },
  {
   "cell_type": "code",
   "execution_count": 10,
   "id": "Qba3O3JDF3yj",
   "metadata": {
    "id": "Qba3O3JDF3yj"
   },
   "outputs": [],
   "source": [
    "from sklearn.model_selection import train_test_split \n",
    "x_train, x_test, y_train, y_test = train_test_split(x_new, y, test_size=0.25, random_state=0)"
   ]
  },
  {
   "cell_type": "markdown",
   "id": "a_bLsfsHJhHX",
   "metadata": {
    "id": "a_bLsfsHJhHX"
   },
   "source": [
    "Datos de entrenamiento y prueba"
   ]
  },
  {
   "cell_type": "code",
   "execution_count": 11,
   "id": "AlnXuGMkGH5h",
   "metadata": {
    "colab": {
     "base_uri": "https://localhost:8080/"
    },
    "executionInfo": {
     "elapsed": 7,
     "status": "ok",
     "timestamp": 1637180372357,
     "user": {
      "displayName": "Adrian Emilio Vazquez Icedo",
      "photoUrl": "https://lh3.googleusercontent.com/a-/AOh14GgJzA6ST7SXJztqFBiGH9sYJ4cvHZi7Bjp1RJuwnA=s64",
      "userId": "08262452322628430763"
     },
     "user_tz": 420
    },
    "id": "AlnXuGMkGH5h",
    "outputId": "10f8f884-a77c-4803-bac9-2a147330e4c1"
   },
   "outputs": [
    {
     "name": "stdout",
     "output_type": "stream",
     "text": [
      "x train:  1199\n",
      "y train:  1199\n",
      "x test:  400\n",
      "y test:  400\n"
     ]
    }
   ],
   "source": [
    "print('x train: ', len(x_train))\n",
    "print('y train: ', len(y_train))\n",
    "print('x test: ', len(x_test))\n",
    "print('y test: ', len(y_test))"
   ]
  },
  {
   "cell_type": "markdown",
   "id": "wUL1laahI6VA",
   "metadata": {
    "id": "wUL1laahI6VA"
   },
   "source": [
    "Posterior a esto se ejecutan los modelos"
   ]
  },
  {
   "cell_type": "markdown",
   "id": "Z9B6H5oPJoL3",
   "metadata": {
    "id": "Z9B6H5oPJoL3"
   },
   "source": [
    "No tuvo ningún efecto en los modelos"
   ]
  },
  {
   "cell_type": "markdown",
   "id": "65o9GriSTqYO",
   "metadata": {
    "id": "65o9GriSTqYO"
   },
   "source": [
    "\n",
    "## Logistic Regression\n"
   ]
  },
  {
   "cell_type": "markdown",
   "id": "PvZE__knpgFR",
   "metadata": {
    "id": "PvZE__knpgFR"
   },
   "source": [
    "La regresión logística es un método estadístico para predecir clases binarias, describe y estima la relación entre una variable binaria dependiente y las variables independientes.\n",
    "\n",
    "* Este método es uno de los algoritmos de aprendizaje automático más simples y comúnmente utilizados para la clasificación de dos clases.\n",
    "* Calcula la probabilidad de ocurrencia de un evento binario utilizando una función logit.\n",
    "* El resultado o la variable objetivo es de naturaleza dicotómic\n",
    "* La variable dependiente en la regresión logística sigue la distribución de Bernoulli.\n",
    "* La estimación se realiza mediante el método de estimación de máxima verosimilitud (MLE)."
   ]
  },
  {
   "cell_type": "code",
   "execution_count": 12,
   "id": "ZRPrKbugTlf7",
   "metadata": {
    "colab": {
     "base_uri": "https://localhost:8080/"
    },
    "executionInfo": {
     "elapsed": 6,
     "status": "ok",
     "timestamp": 1637180372357,
     "user": {
      "displayName": "Adrian Emilio Vazquez Icedo",
      "photoUrl": "https://lh3.googleusercontent.com/a-/AOh14GgJzA6ST7SXJztqFBiGH9sYJ4cvHZi7Bjp1RJuwnA=s64",
      "userId": "08262452322628430763"
     },
     "user_tz": 420
    },
    "id": "ZRPrKbugTlf7",
    "outputId": "6fca424b-58c1-4fab-f056-446d64808f92"
   },
   "outputs": [
    {
     "data": {
      "text/plain": [
       "LogisticRegression(max_iter=10000)"
      ]
     },
     "execution_count": 12,
     "metadata": {},
     "output_type": "execute_result"
    }
   ],
   "source": [
    "from sklearn.linear_model import LogisticRegression\n",
    "reg = LogisticRegression(max_iter= 10000)\n",
    "reg.fit(x_train, y_train)"
   ]
  },
  {
   "cell_type": "code",
   "execution_count": 13,
   "id": "gWni7ziMTyRF",
   "metadata": {
    "colab": {
     "base_uri": "https://localhost:8080/"
    },
    "executionInfo": {
     "elapsed": 301,
     "status": "ok",
     "timestamp": 1637180372654,
     "user": {
      "displayName": "Adrian Emilio Vazquez Icedo",
      "photoUrl": "https://lh3.googleusercontent.com/a-/AOh14GgJzA6ST7SXJztqFBiGH9sYJ4cvHZi7Bjp1RJuwnA=s64",
      "userId": "08262452322628430763"
     },
     "user_tz": 420
    },
    "id": "gWni7ziMTyRF",
    "outputId": "d366c157-3477-4b27-e0ed-dfb23fe7212d"
   },
   "outputs": [
    {
     "name": "stdout",
     "output_type": "stream",
     "text": [
      "              precision    recall  f1-score   support\n",
      "\n",
      "        High       0.52      0.38      0.44        45\n",
      "         Low       0.00      0.00      0.00        16\n",
      "      Medium       0.88      0.96      0.92       339\n",
      "\n",
      "    accuracy                           0.85       400\n",
      "   macro avg       0.47      0.44      0.45       400\n",
      "weighted avg       0.81      0.85      0.83       400\n",
      "\n",
      "Confusion matrix:  [[ 17   0  28]\n",
      " [  1   0  15]\n",
      " [ 15   0 324]]\n",
      "Training score:  83.23603002502085\n"
     ]
    },
    {
     "name": "stderr",
     "output_type": "stream",
     "text": [
      "C:\\Users\\avazq\\anaconda3\\lib\\site-packages\\sklearn\\metrics\\_classification.py:1245: UndefinedMetricWarning: Precision and F-score are ill-defined and being set to 0.0 in labels with no predicted samples. Use `zero_division` parameter to control this behavior.\n",
      "  _warn_prf(average, modifier, msg_start, len(result))\n",
      "C:\\Users\\avazq\\anaconda3\\lib\\site-packages\\sklearn\\metrics\\_classification.py:1245: UndefinedMetricWarning: Precision and F-score are ill-defined and being set to 0.0 in labels with no predicted samples. Use `zero_division` parameter to control this behavior.\n",
      "  _warn_prf(average, modifier, msg_start, len(result))\n",
      "C:\\Users\\avazq\\anaconda3\\lib\\site-packages\\sklearn\\metrics\\_classification.py:1245: UndefinedMetricWarning: Precision and F-score are ill-defined and being set to 0.0 in labels with no predicted samples. Use `zero_division` parameter to control this behavior.\n",
      "  _warn_prf(average, modifier, msg_start, len(result))\n"
     ]
    }
   ],
   "source": [
    "y_pred = reg.predict(x_test)\n",
    "from sklearn.metrics import accuracy_score, classification_report, confusion_matrix, r2_score, roc_auc_score\n",
    "print(classification_report(y_test, y_pred))\n",
    "print('Confusion matrix: ', confusion_matrix(y_test, y_pred))\n",
    "print('Training score: ', reg.score(x_train, y_train)*100)"
   ]
  },
  {
   "cell_type": "code",
   "execution_count": 14,
   "id": "-4FWb5o-T_D2",
   "metadata": {
    "colab": {
     "base_uri": "https://localhost:8080/"
    },
    "executionInfo": {
     "elapsed": 26,
     "status": "ok",
     "timestamp": 1637180372655,
     "user": {
      "displayName": "Adrian Emilio Vazquez Icedo",
      "photoUrl": "https://lh3.googleusercontent.com/a-/AOh14GgJzA6ST7SXJztqFBiGH9sYJ4cvHZi7Bjp1RJuwnA=s64",
      "userId": "08262452322628430763"
     },
     "user_tz": 420
    },
    "id": "-4FWb5o-T_D2",
    "outputId": "b7b86503-dca1-43b3-e8ad-99d64f7571bf"
   },
   "outputs": [
    {
     "name": "stdout",
     "output_type": "stream",
     "text": [
      "Logistic Regression accuracy score:  85.25\n"
     ]
    }
   ],
   "source": [
    "score_lr = accuracy_score(y_test, y_pred)*100\n",
    "print(\"Logistic Regression accuracy score: \", score_lr)"
   ]
  },
  {
   "cell_type": "markdown",
   "id": "UH1RR0yyUcu-",
   "metadata": {
    "id": "UH1RR0yyUcu-"
   },
   "source": [
    "## K Nearest Neighbors Classifier (KNN)\n",
    "### Algoritmo de clasificación de los K vecinos próximos"
   ]
  },
  {
   "cell_type": "markdown",
   "id": "X8X1Z2e9A6nX",
   "metadata": {
    "id": "X8X1Z2e9A6nX"
   },
   "source": [
    "* Para encontrar similaridad entre puntos, se encuentra la distancia entre estos, para ello utiliza medidas como distancia Euclidiana, distancia de Manhattan, distancia de Hamming y la distancia de Minkowski\n",
    "* Funciona bien con datos de pocas características\n",
    "* K es el número de vecinos a evaluar"
   ]
  },
  {
   "cell_type": "markdown",
   "id": "sIHcOtqFjF6P",
   "metadata": {
    "id": "sIHcOtqFjF6P"
   },
   "source": [
    "Se crea el objeto KNN y se ajusta el modelo de entrenamiento"
   ]
  },
  {
   "cell_type": "code",
   "execution_count": 15,
   "id": "1zFlZJRaUbI8",
   "metadata": {
    "colab": {
     "base_uri": "https://localhost:8080/"
    },
    "executionInfo": {
     "elapsed": 21,
     "status": "ok",
     "timestamp": 1637180372655,
     "user": {
      "displayName": "Adrian Emilio Vazquez Icedo",
      "photoUrl": "https://lh3.googleusercontent.com/a-/AOh14GgJzA6ST7SXJztqFBiGH9sYJ4cvHZi7Bjp1RJuwnA=s64",
      "userId": "08262452322628430763"
     },
     "user_tz": 420
    },
    "id": "1zFlZJRaUbI8",
    "outputId": "8099e2b2-3bc8-435c-80a9-ad84d8f6bc51"
   },
   "outputs": [
    {
     "data": {
      "text/plain": [
       "KNeighborsClassifier()"
      ]
     },
     "execution_count": 15,
     "metadata": {},
     "output_type": "execute_result"
    }
   ],
   "source": [
    "from sklearn.neighbors import KNeighborsClassifier\n",
    "knn = KNeighborsClassifier(n_neighbors= 5)\n",
    "\n",
    "knn.fit(x_train, y_train)"
   ]
  },
  {
   "cell_type": "markdown",
   "id": "UYpX3j7Ijp6V",
   "metadata": {
    "id": "UYpX3j7Ijp6V"
   },
   "source": [
    "Se crea el objeto de predicción y evalua"
   ]
  },
  {
   "cell_type": "code",
   "execution_count": 16,
   "id": "ub_L7PsgUV74",
   "metadata": {
    "colab": {
     "base_uri": "https://localhost:8080/"
    },
    "executionInfo": {
     "elapsed": 18,
     "status": "ok",
     "timestamp": 1637180372655,
     "user": {
      "displayName": "Adrian Emilio Vazquez Icedo",
      "photoUrl": "https://lh3.googleusercontent.com/a-/AOh14GgJzA6ST7SXJztqFBiGH9sYJ4cvHZi7Bjp1RJuwnA=s64",
      "userId": "08262452322628430763"
     },
     "user_tz": 420
    },
    "id": "ub_L7PsgUV74",
    "outputId": "12c896fe-dacd-46c0-ffc6-91a7865aa604"
   },
   "outputs": [
    {
     "name": "stdout",
     "output_type": "stream",
     "text": [
      "              precision    recall  f1-score   support\n",
      "\n",
      "        High       0.46      0.40      0.43        45\n",
      "         Low       0.00      0.00      0.00        16\n",
      "      Medium       0.88      0.93      0.91       339\n",
      "\n",
      "    accuracy                           0.83       400\n",
      "   macro avg       0.45      0.44      0.44       400\n",
      "weighted avg       0.80      0.83      0.82       400\n",
      "\n",
      "[[ 18   0  27]\n",
      " [  0   0  16]\n",
      " [ 21   2 316]]\n",
      "Training Score:  86.82235195996664\n",
      "Testing Score:   83.5\n"
     ]
    }
   ],
   "source": [
    "y_pred = knn.predict(x_test)\n",
    "from sklearn.metrics import classification_report, confusion_matrix, accuracy_score, mean_squared_error, r2_score\n",
    "print(classification_report(y_test, y_pred))\n",
    "print(confusion_matrix(y_test, y_pred))\n",
    "print(\"Training Score: \", knn.score(x_train, y_train)*100)\n",
    "print(\"Testing Score:  \", knn.score(x_test, y_test)*100)"
   ]
  },
  {
   "cell_type": "markdown",
   "id": "Q3RwebApkmOG",
   "metadata": {
    "id": "Q3RwebApkmOG"
   },
   "source": [
    "Se promedia los resultados de pruebas y entrenamiento"
   ]
  },
  {
   "cell_type": "code",
   "execution_count": 17,
   "id": "xq_7Btr6Uh4l",
   "metadata": {
    "colab": {
     "base_uri": "https://localhost:8080/"
    },
    "executionInfo": {
     "elapsed": 15,
     "status": "ok",
     "timestamp": 1637180372656,
     "user": {
      "displayName": "Adrian Emilio Vazquez Icedo",
      "photoUrl": "https://lh3.googleusercontent.com/a-/AOh14GgJzA6ST7SXJztqFBiGH9sYJ4cvHZi7Bjp1RJuwnA=s64",
      "userId": "08262452322628430763"
     },
     "user_tz": 420
    },
    "id": "xq_7Btr6Uh4l",
    "outputId": "12886735-82bb-4f26-8f25-18415bfd67b5"
   },
   "outputs": [
    {
     "name": "stdout",
     "output_type": "stream",
     "text": [
      "KNN accuracy Score:  83.5\n"
     ]
    }
   ],
   "source": [
    "score_knn = accuracy_score(y_test, y_pred)*100\n",
    "print(\"KNN accuracy Score: \", score_knn)"
   ]
  },
  {
   "cell_type": "markdown",
   "id": "8k8QeaT4VIGy",
   "metadata": {
    "id": "8k8QeaT4VIGy"
   },
   "source": [
    "\n",
    "# Decision Tree Classifier"
   ]
  },
  {
   "cell_type": "markdown",
   "id": "b42tPX6O98-7",
   "metadata": {
    "id": "b42tPX6O98-7"
   },
   "source": [
    "Árbol de decisión\n",
    "\n",
    "\n",
    "El objetivo es crear un modelo que prediga el valor de una variable objetivo mediante el aprendizaje de reglas de decisión simples inferidas de las características de los datos. \n",
    "\n",
    "* Cuanto más profundo es el árbol, más complejas son las reglas de decisión y más ajustado es el modelo.\n",
    "\n",
    "* Los árboles de decisión son fáciles de interpretar y visualizar.\n",
    "\n",
    "* Requiere menos procesamiento previo de datos por parte del usuario, por ejemplo, no hay necesidad de normalizar columnas.\n",
    "\n",
    "* Sensible a datos ruidosos. Puede sobreajustarse a datos ruidosos. Esto se debe controlar mediante la profundidad del arbol.\n"
   ]
  },
  {
   "cell_type": "code",
   "execution_count": 18,
   "id": "i_KAXyQvVGnU",
   "metadata": {
    "id": "i_KAXyQvVGnU"
   },
   "outputs": [],
   "source": [
    "from sklearn.tree import DecisionTreeClassifier\n",
    "dtree = DecisionTreeClassifier(max_depth=6, random_state=0)\n",
    "\n",
    "dtree.fit(x_train, y_train)\n",
    "\n",
    "y_pred = dtree.predict(x_test)"
   ]
  },
  {
   "cell_type": "code",
   "execution_count": 19,
   "id": "fDbw20e9VNUm",
   "metadata": {
    "colab": {
     "base_uri": "https://localhost:8080/"
    },
    "executionInfo": {
     "elapsed": 11,
     "status": "ok",
     "timestamp": 1637180372656,
     "user": {
      "displayName": "Adrian Emilio Vazquez Icedo",
      "photoUrl": "https://lh3.googleusercontent.com/a-/AOh14GgJzA6ST7SXJztqFBiGH9sYJ4cvHZi7Bjp1RJuwnA=s64",
      "userId": "08262452322628430763"
     },
     "user_tz": 420
    },
    "id": "fDbw20e9VNUm",
    "outputId": "9154127e-a278-4c27-fddb-9dec9790dd01"
   },
   "outputs": [
    {
     "name": "stdout",
     "output_type": "stream",
     "text": [
      "              precision    recall  f1-score   support\n",
      "\n",
      "        High       0.56      0.60      0.58        45\n",
      "         Low       0.50      0.06      0.11        16\n",
      "      Medium       0.91      0.94      0.92       339\n",
      "\n",
      "    accuracy                           0.86       400\n",
      "   macro avg       0.66      0.53      0.54       400\n",
      "weighted avg       0.85      0.86      0.85       400\n",
      "\n",
      "[[ 27   0  18]\n",
      " [  1   1  14]\n",
      " [ 20   1 318]]\n",
      "Training Score:  90.07506255212677\n"
     ]
    }
   ],
   "source": [
    "y_pred=dtree.predict(x_test)\n",
    "\n",
    "from sklearn.metrics import classification_report, confusion_matrix, accuracy_score, mean_squared_error\n",
    "print(classification_report(y_test, y_pred))\n",
    "print(confusion_matrix(y_test, y_pred))\n",
    "print(\"Training Score: \",dtree.score(x_train, y_train)*100)\n"
   ]
  },
  {
   "cell_type": "code",
   "execution_count": 20,
   "id": "s0CvkqDCVOVo",
   "metadata": {
    "colab": {
     "base_uri": "https://localhost:8080/"
    },
    "executionInfo": {
     "elapsed": 7,
     "status": "ok",
     "timestamp": 1637180372656,
     "user": {
      "displayName": "Adrian Emilio Vazquez Icedo",
      "photoUrl": "https://lh3.googleusercontent.com/a-/AOh14GgJzA6ST7SXJztqFBiGH9sYJ4cvHZi7Bjp1RJuwnA=s64",
      "userId": "08262452322628430763"
     },
     "user_tz": 420
    },
    "id": "s0CvkqDCVOVo",
    "outputId": "096ac6c8-1b86-46bf-ff2d-35d297868a46"
   },
   "outputs": [
    {
     "name": "stdout",
     "output_type": "stream",
     "text": [
      "Decision Tree accuracy Score:  86.5\n"
     ]
    }
   ],
   "source": [
    "score_ds = accuracy_score(y_test, y_pred)*100\n",
    "print(\"Decision Tree accuracy Score: \", score_ds)"
   ]
  },
  {
   "cell_type": "markdown",
   "id": "8ldispTxOzAH",
   "metadata": {
    "id": "8ldispTxOzAH"
   },
   "source": [
    "## Pipeline"
   ]
  },
  {
   "cell_type": "code",
   "execution_count": 21,
   "id": "nVOyMqgGnxpr",
   "metadata": {
    "id": "nVOyMqgGnxpr"
   },
   "outputs": [],
   "source": [
    "from sklearn.pipeline import make_pipeline # https://stackoverflow.com/questions/40708077/what-is-the-difference-between-pipeline-and-make-pipeline-in-scikit\n",
    "\n",
    "from sklearn.pipeline import Pipeline\n",
    "from sklearn.preprocessing import StandardScaler\n",
    "from sklearn.preprocessing import PolynomialFeatures\n",
    "from sklearn.linear_model import LinearRegression\n",
    "from sklearn.ensemble import ExtraTreesClassifier"
   ]
  },
  {
   "cell_type": "code",
   "execution_count": 22,
   "id": "OIr8K9v_v5W1",
   "metadata": {
    "id": "OIr8K9v_v5W1"
   },
   "outputs": [],
   "source": [
    "Input=[('scale',StandardScaler()), ('polynomial', PolynomialFeatures(include_bias=False)), ('model',ExtraTreesClassifier())]"
   ]
  },
  {
   "cell_type": "code",
   "execution_count": 23,
   "id": "C6f2WTqgv6DV",
   "metadata": {
    "colab": {
     "base_uri": "https://localhost:8080/"
    },
    "executionInfo": {
     "elapsed": 4,
     "status": "ok",
     "timestamp": 1637180372886,
     "user": {
      "displayName": "Adrian Emilio Vazquez Icedo",
      "photoUrl": "https://lh3.googleusercontent.com/a-/AOh14GgJzA6ST7SXJztqFBiGH9sYJ4cvHZi7Bjp1RJuwnA=s64",
      "userId": "08262452322628430763"
     },
     "user_tz": 420
    },
    "id": "C6f2WTqgv6DV",
    "outputId": "6cbc060a-d027-4f8e-b7d4-15049c2db8f0"
   },
   "outputs": [
    {
     "data": {
      "text/plain": [
       "Pipeline(steps=[('scale', StandardScaler()),\n",
       "                ('polynomial', PolynomialFeatures(include_bias=False)),\n",
       "                ('model', ExtraTreesClassifier())])"
      ]
     },
     "execution_count": 23,
     "metadata": {},
     "output_type": "execute_result"
    }
   ],
   "source": [
    "pipe=Pipeline(Input)\n",
    "pipe"
   ]
  },
  {
   "cell_type": "code",
   "execution_count": 24,
   "id": "ZMN-jlgXv7Ik",
   "metadata": {
    "colab": {
     "base_uri": "https://localhost:8080/"
    },
    "executionInfo": {
     "elapsed": 499,
     "status": "ok",
     "timestamp": 1637180373383,
     "user": {
      "displayName": "Adrian Emilio Vazquez Icedo",
      "photoUrl": "https://lh3.googleusercontent.com/a-/AOh14GgJzA6ST7SXJztqFBiGH9sYJ4cvHZi7Bjp1RJuwnA=s64",
      "userId": "08262452322628430763"
     },
     "user_tz": 420
    },
    "id": "ZMN-jlgXv7Ik",
    "outputId": "0626ebb8-0d6f-4ad9-9b0a-59402128f273"
   },
   "outputs": [
    {
     "data": {
      "text/plain": [
       "Pipeline(steps=[('scale', StandardScaler()),\n",
       "                ('polynomial', PolynomialFeatures(include_bias=False)),\n",
       "                ('model', ExtraTreesClassifier())])"
      ]
     },
     "execution_count": 24,
     "metadata": {},
     "output_type": "execute_result"
    }
   ],
   "source": [
    "pipe.fit(x_train, y_train)"
   ]
  },
  {
   "cell_type": "code",
   "execution_count": 25,
   "id": "OyikUp6svmxC",
   "metadata": {
    "id": "OyikUp6svmxC"
   },
   "outputs": [],
   "source": [
    "y_pipe=pipe.predict(x_test)"
   ]
  },
  {
   "cell_type": "code",
   "execution_count": 26,
   "id": "6QRD4UdXybrp",
   "metadata": {
    "colab": {
     "base_uri": "https://localhost:8080/"
    },
    "executionInfo": {
     "elapsed": 19,
     "status": "ok",
     "timestamp": 1637180373384,
     "user": {
      "displayName": "Adrian Emilio Vazquez Icedo",
      "photoUrl": "https://lh3.googleusercontent.com/a-/AOh14GgJzA6ST7SXJztqFBiGH9sYJ4cvHZi7Bjp1RJuwnA=s64",
      "userId": "08262452322628430763"
     },
     "user_tz": 420
    },
    "id": "6QRD4UdXybrp",
    "outputId": "53c7781e-724f-4ee6-ba86-c4c972b5276d"
   },
   "outputs": [
    {
     "name": "stdout",
     "output_type": "stream",
     "text": [
      "              precision    recall  f1-score   support\n",
      "\n",
      "        High       0.78      0.56      0.65        45\n",
      "         Low       0.00      0.00      0.00        16\n",
      "      Medium       0.90      0.98      0.94       339\n",
      "\n",
      "    accuracy                           0.89       400\n",
      "   macro avg       0.56      0.51      0.53       400\n",
      "weighted avg       0.85      0.89      0.87       400\n",
      "\n",
      "[[ 25   0  20]\n",
      " [  0   0  16]\n",
      " [  7   0 332]]\n",
      "Training Score:  100.0\n",
      "Testing Score:  89.25\n"
     ]
    },
    {
     "name": "stderr",
     "output_type": "stream",
     "text": [
      "C:\\Users\\avazq\\anaconda3\\lib\\site-packages\\sklearn\\metrics\\_classification.py:1245: UndefinedMetricWarning: Precision and F-score are ill-defined and being set to 0.0 in labels with no predicted samples. Use `zero_division` parameter to control this behavior.\n",
      "  _warn_prf(average, modifier, msg_start, len(result))\n",
      "C:\\Users\\avazq\\anaconda3\\lib\\site-packages\\sklearn\\metrics\\_classification.py:1245: UndefinedMetricWarning: Precision and F-score are ill-defined and being set to 0.0 in labels with no predicted samples. Use `zero_division` parameter to control this behavior.\n",
      "  _warn_prf(average, modifier, msg_start, len(result))\n",
      "C:\\Users\\avazq\\anaconda3\\lib\\site-packages\\sklearn\\metrics\\_classification.py:1245: UndefinedMetricWarning: Precision and F-score are ill-defined and being set to 0.0 in labels with no predicted samples. Use `zero_division` parameter to control this behavior.\n",
      "  _warn_prf(average, modifier, msg_start, len(result))\n"
     ]
    }
   ],
   "source": [
    "print(classification_report(y_test, y_pipe))\n",
    "print(confusion_matrix(y_test, y_pipe))\n",
    "print(\"Training Score: \", pipe.score(x_train, y_train)*100)\n",
    "print(\"Testing Score: \", pipe.score(x_test, y_test)*100)"
   ]
  },
  {
   "cell_type": "code",
   "execution_count": 27,
   "id": "XEFoBu2sxbz8",
   "metadata": {
    "colab": {
     "base_uri": "https://localhost:8080/"
    },
    "executionInfo": {
     "elapsed": 226,
     "status": "ok",
     "timestamp": 1637180476461,
     "user": {
      "displayName": "Adrian Emilio Vazquez Icedo",
      "photoUrl": "https://lh3.googleusercontent.com/a-/AOh14GgJzA6ST7SXJztqFBiGH9sYJ4cvHZi7Bjp1RJuwnA=s64",
      "userId": "08262452322628430763"
     },
     "user_tz": 420
    },
    "id": "XEFoBu2sxbz8",
    "outputId": "15e01833-d89d-4d6b-d69a-7024f3af9aa5"
   },
   "outputs": [
    {
     "name": "stdout",
     "output_type": "stream",
     "text": [
      "Pipeline accuracy Score:  89.25\n"
     ]
    }
   ],
   "source": [
    "pipeScore = accuracy_score(y_test, y_pipe)*100\n",
    "print(\"Pipeline accuracy Score: \", pipeScore)"
   ]
  },
  {
   "cell_type": "markdown",
   "id": "BUIn486mNBPD",
   "metadata": {
    "id": "BUIn486mNBPD"
   },
   "source": [
    "\n",
    "## Random Forest Classifier"
   ]
  },
  {
   "cell_type": "code",
   "execution_count": 28,
   "id": "XI-fgRb9m2b1",
   "metadata": {
    "colab": {
     "base_uri": "https://localhost:8080/"
    },
    "executionInfo": {
     "elapsed": 618,
     "status": "ok",
     "timestamp": 1637180373998,
     "user": {
      "displayName": "Adrian Emilio Vazquez Icedo",
      "photoUrl": "https://lh3.googleusercontent.com/a-/AOh14GgJzA6ST7SXJztqFBiGH9sYJ4cvHZi7Bjp1RJuwnA=s64",
      "userId": "08262452322628430763"
     },
     "user_tz": 420
    },
    "id": "XI-fgRb9m2b1",
    "outputId": "333111b3-d9ec-4905-caa6-7d0f186f1e0c"
   },
   "outputs": [
    {
     "data": {
      "text/plain": [
       "RandomForestClassifier()"
      ]
     },
     "execution_count": 28,
     "metadata": {},
     "output_type": "execute_result"
    }
   ],
   "source": [
    "from sklearn.ensemble import RandomForestClassifier\n",
    "rfc = RandomForestClassifier()\n",
    "rfc.fit(x_train, y_train)"
   ]
  },
  {
   "cell_type": "code",
   "execution_count": 29,
   "id": "dplHip75nc2P",
   "metadata": {
    "colab": {
     "base_uri": "https://localhost:8080/"
    },
    "executionInfo": {
     "elapsed": 25,
     "status": "ok",
     "timestamp": 1637180373998,
     "user": {
      "displayName": "Adrian Emilio Vazquez Icedo",
      "photoUrl": "https://lh3.googleusercontent.com/a-/AOh14GgJzA6ST7SXJztqFBiGH9sYJ4cvHZi7Bjp1RJuwnA=s64",
      "userId": "08262452322628430763"
     },
     "user_tz": 420
    },
    "id": "dplHip75nc2P",
    "outputId": "4ccd2d26-fd76-4643-d38b-5cb85d5688b0"
   },
   "outputs": [
    {
     "name": "stdout",
     "output_type": "stream",
     "text": [
      "              precision    recall  f1-score   support\n",
      "\n",
      "        High       0.83      0.53      0.65        45\n",
      "         Low       0.00      0.00      0.00        16\n",
      "      Medium       0.90      0.99      0.94       339\n",
      "\n",
      "    accuracy                           0.90       400\n",
      "   macro avg       0.58      0.51      0.53       400\n",
      "weighted avg       0.86      0.90      0.87       400\n",
      "\n",
      "[[ 24   0  21]\n",
      " [  0   0  16]\n",
      " [  5   0 334]]\n",
      "Training Score:  100.0\n",
      "Testing Score:  89.5\n"
     ]
    },
    {
     "name": "stderr",
     "output_type": "stream",
     "text": [
      "C:\\Users\\avazq\\anaconda3\\lib\\site-packages\\sklearn\\metrics\\_classification.py:1245: UndefinedMetricWarning: Precision and F-score are ill-defined and being set to 0.0 in labels with no predicted samples. Use `zero_division` parameter to control this behavior.\n",
      "  _warn_prf(average, modifier, msg_start, len(result))\n",
      "C:\\Users\\avazq\\anaconda3\\lib\\site-packages\\sklearn\\metrics\\_classification.py:1245: UndefinedMetricWarning: Precision and F-score are ill-defined and being set to 0.0 in labels with no predicted samples. Use `zero_division` parameter to control this behavior.\n",
      "  _warn_prf(average, modifier, msg_start, len(result))\n",
      "C:\\Users\\avazq\\anaconda3\\lib\\site-packages\\sklearn\\metrics\\_classification.py:1245: UndefinedMetricWarning: Precision and F-score are ill-defined and being set to 0.0 in labels with no predicted samples. Use `zero_division` parameter to control this behavior.\n",
      "  _warn_prf(average, modifier, msg_start, len(result))\n"
     ]
    }
   ],
   "source": [
    "y_pred = rfc.predict(x_test)\n",
    "from sklearn.metrics import classification_report, confusion_matrix, accuracy_score, mean_squared_error\n",
    "print(classification_report(y_test, y_pred))\n",
    "print(confusion_matrix(y_test, y_pred))\n",
    "print(\"Training Score: \", rfc.score(x_train, y_train)*100)\n",
    "print(\"Testing Score: \", rfc.score(x_test, y_test)*100)"
   ]
  },
  {
   "cell_type": "code",
   "execution_count": 30,
   "id": "RHYgWRrPn4Z5",
   "metadata": {
    "colab": {
     "base_uri": "https://localhost:8080/"
    },
    "executionInfo": {
     "elapsed": 15,
     "status": "ok",
     "timestamp": 1637180373999,
     "user": {
      "displayName": "Adrian Emilio Vazquez Icedo",
      "photoUrl": "https://lh3.googleusercontent.com/a-/AOh14GgJzA6ST7SXJztqFBiGH9sYJ4cvHZi7Bjp1RJuwnA=s64",
      "userId": "08262452322628430763"
     },
     "user_tz": 420
    },
    "id": "RHYgWRrPn4Z5",
    "outputId": "d1bef154-a950-4337-b610-ec626de61e50"
   },
   "outputs": [
    {
     "name": "stdout",
     "output_type": "stream",
     "text": [
      "Random Forest accuracy Score:  89.5\n"
     ]
    }
   ],
   "source": [
    "score_rf = accuracy_score(y_test, y_pred)*100\n",
    "print(\"Random Forest accuracy Score: \", score_rf)"
   ]
  },
  {
   "cell_type": "markdown",
   "id": "kjv_CZfppvaA",
   "metadata": {
    "id": "kjv_CZfppvaA"
   },
   "source": [
    "\n",
    "## C - Support Vector Classifier (SVC)"
   ]
  },
  {
   "cell_type": "code",
   "execution_count": 31,
   "id": "SI9o2tQcp0KT",
   "metadata": {
    "colab": {
     "base_uri": "https://localhost:8080/"
    },
    "executionInfo": {
     "elapsed": 9,
     "status": "ok",
     "timestamp": 1637180373999,
     "user": {
      "displayName": "Adrian Emilio Vazquez Icedo",
      "photoUrl": "https://lh3.googleusercontent.com/a-/AOh14GgJzA6ST7SXJztqFBiGH9sYJ4cvHZi7Bjp1RJuwnA=s64",
      "userId": "08262452322628430763"
     },
     "user_tz": 420
    },
    "id": "SI9o2tQcp0KT",
    "outputId": "80d16fb0-6756-4d36-9131-3e873bcca9c6"
   },
   "outputs": [
    {
     "data": {
      "text/plain": [
       "SVC()"
      ]
     },
     "execution_count": 31,
     "metadata": {},
     "output_type": "execute_result"
    }
   ],
   "source": [
    "from sklearn.svm import SVC\n",
    "svc = SVC()\n",
    "svc.fit(x_train, y_train)"
   ]
  },
  {
   "cell_type": "code",
   "execution_count": 32,
   "id": "3Y8GsKQqrbRe",
   "metadata": {
    "colab": {
     "base_uri": "https://localhost:8080/"
    },
    "executionInfo": {
     "elapsed": 256,
     "status": "ok",
     "timestamp": 1637180374249,
     "user": {
      "displayName": "Adrian Emilio Vazquez Icedo",
      "photoUrl": "https://lh3.googleusercontent.com/a-/AOh14GgJzA6ST7SXJztqFBiGH9sYJ4cvHZi7Bjp1RJuwnA=s64",
      "userId": "08262452322628430763"
     },
     "user_tz": 420
    },
    "id": "3Y8GsKQqrbRe",
    "outputId": "197fabe8-27a4-478d-db31-99c8dd59da86"
   },
   "outputs": [
    {
     "name": "stderr",
     "output_type": "stream",
     "text": [
      "C:\\Users\\avazq\\anaconda3\\lib\\site-packages\\sklearn\\metrics\\_classification.py:1245: UndefinedMetricWarning: Precision and F-score are ill-defined and being set to 0.0 in labels with no predicted samples. Use `zero_division` parameter to control this behavior.\n",
      "  _warn_prf(average, modifier, msg_start, len(result))\n",
      "C:\\Users\\avazq\\anaconda3\\lib\\site-packages\\sklearn\\metrics\\_classification.py:1245: UndefinedMetricWarning: Precision and F-score are ill-defined and being set to 0.0 in labels with no predicted samples. Use `zero_division` parameter to control this behavior.\n",
      "  _warn_prf(average, modifier, msg_start, len(result))\n",
      "C:\\Users\\avazq\\anaconda3\\lib\\site-packages\\sklearn\\metrics\\_classification.py:1245: UndefinedMetricWarning: Precision and F-score are ill-defined and being set to 0.0 in labels with no predicted samples. Use `zero_division` parameter to control this behavior.\n",
      "  _warn_prf(average, modifier, msg_start, len(result))\n"
     ]
    },
    {
     "name": "stdout",
     "output_type": "stream",
     "text": [
      "              precision    recall  f1-score   support\n",
      "\n",
      "        High       0.74      0.31      0.44        45\n",
      "         Low       0.00      0.00      0.00        16\n",
      "      Medium       0.88      0.99      0.93       339\n",
      "\n",
      "    accuracy                           0.87       400\n",
      "   macro avg       0.54      0.43      0.46       400\n",
      "weighted avg       0.83      0.87      0.84       400\n",
      "\n",
      "[[ 14   0  31]\n",
      " [  0   0  16]\n",
      " [  5   0 334]]\n",
      "Training Score:  84.82068390325271\n",
      "Testing Score:  87.0\n"
     ]
    }
   ],
   "source": [
    "y_pred = svc.predict(x_test)\n",
    "from sklearn.metrics import classification_report, confusion_matrix, accuracy_score, mean_squared_error, r2_score\n",
    "print(classification_report(y_test, y_pred))\n",
    "print(confusion_matrix(y_test, y_pred))\n",
    "print(\"Training Score: \", svc.score(x_train, y_train)*100)\n",
    "print(\"Testing Score: \", svc.score(x_test, y_test)*100)"
   ]
  },
  {
   "cell_type": "code",
   "execution_count": 33,
   "id": "Dmjq4HmPsU7J",
   "metadata": {
    "colab": {
     "base_uri": "https://localhost:8080/"
    },
    "executionInfo": {
     "elapsed": 4,
     "status": "ok",
     "timestamp": 1637180374249,
     "user": {
      "displayName": "Adrian Emilio Vazquez Icedo",
      "photoUrl": "https://lh3.googleusercontent.com/a-/AOh14GgJzA6ST7SXJztqFBiGH9sYJ4cvHZi7Bjp1RJuwnA=s64",
      "userId": "08262452322628430763"
     },
     "user_tz": 420
    },
    "id": "Dmjq4HmPsU7J",
    "outputId": "94624bac-2dd4-469a-8703-8fa43d90e9bc"
   },
   "outputs": [
    {
     "name": "stdout",
     "output_type": "stream",
     "text": [
      "SVC accuracy Score:  87.0\n"
     ]
    }
   ],
   "source": [
    "score_svc = accuracy_score(y_test, y_pred)*100\n",
    "print(\"SVC accuracy Score: \", score_svc)"
   ]
  },
  {
   "cell_type": "markdown",
   "id": "FUQyEf2dtvVi",
   "metadata": {
    "id": "FUQyEf2dtvVi"
   },
   "source": [
    "\n",
    "## Ada Boost Classifier"
   ]
  },
  {
   "cell_type": "code",
   "execution_count": 34,
   "id": "UPneER10tt5o",
   "metadata": {
    "colab": {
     "base_uri": "https://localhost:8080/"
    },
    "executionInfo": {
     "elapsed": 239,
     "status": "ok",
     "timestamp": 1637180374487,
     "user": {
      "displayName": "Adrian Emilio Vazquez Icedo",
      "photoUrl": "https://lh3.googleusercontent.com/a-/AOh14GgJzA6ST7SXJztqFBiGH9sYJ4cvHZi7Bjp1RJuwnA=s64",
      "userId": "08262452322628430763"
     },
     "user_tz": 420
    },
    "id": "UPneER10tt5o",
    "outputId": "8bbfba50-bf4a-46cf-a7ea-4fb2a0d40573"
   },
   "outputs": [
    {
     "data": {
      "text/plain": [
       "AdaBoostClassifier()"
      ]
     },
     "execution_count": 34,
     "metadata": {},
     "output_type": "execute_result"
    }
   ],
   "source": [
    "from sklearn.ensemble import AdaBoostClassifier\n",
    "adb = AdaBoostClassifier(base_estimator = None)\n",
    "adb.fit(x_train, y_train)"
   ]
  },
  {
   "cell_type": "code",
   "execution_count": 35,
   "id": "rzL5PwbzuFOT",
   "metadata": {
    "colab": {
     "base_uri": "https://localhost:8080/"
    },
    "executionInfo": {
     "elapsed": 5,
     "status": "ok",
     "timestamp": 1637180374487,
     "user": {
      "displayName": "Adrian Emilio Vazquez Icedo",
      "photoUrl": "https://lh3.googleusercontent.com/a-/AOh14GgJzA6ST7SXJztqFBiGH9sYJ4cvHZi7Bjp1RJuwnA=s64",
      "userId": "08262452322628430763"
     },
     "user_tz": 420
    },
    "id": "rzL5PwbzuFOT",
    "outputId": "0b514849-806d-4aad-a657-126659d6bee2"
   },
   "outputs": [
    {
     "name": "stdout",
     "output_type": "stream",
     "text": [
      "              precision    recall  f1-score   support\n",
      "\n",
      "        High       0.32      0.58      0.41        45\n",
      "         Low       0.00      0.00      0.00        16\n",
      "      Medium       0.90      0.81      0.85       339\n",
      "\n",
      "    accuracy                           0.75       400\n",
      "   macro avg       0.41      0.46      0.42       400\n",
      "weighted avg       0.80      0.75      0.77       400\n",
      "\n",
      "[[ 26   0  19]\n",
      " [  3   0  13]\n",
      " [ 52  12 275]]\n",
      "Training Score:  75.14595496246872\n",
      "Testing Score:  75.25\n"
     ]
    }
   ],
   "source": [
    "y_pred = adb.predict(x_test)\n",
    "from sklearn.metrics import classification_report, confusion_matrix, accuracy_score, mean_squared_error, r2_score\n",
    "print(classification_report(y_test, y_pred))\n",
    "print(confusion_matrix(y_test, y_pred))\n",
    "print(\"Training Score: \", adb.score(x_train, y_train)*100)\n",
    "print(\"Testing Score: \", adb.score(x_test, y_test)*100)"
   ]
  },
  {
   "cell_type": "code",
   "execution_count": 36,
   "id": "--5pWblvuMYr",
   "metadata": {
    "colab": {
     "base_uri": "https://localhost:8080/"
    },
    "executionInfo": {
     "elapsed": 4,
     "status": "ok",
     "timestamp": 1637180374488,
     "user": {
      "displayName": "Adrian Emilio Vazquez Icedo",
      "photoUrl": "https://lh3.googleusercontent.com/a-/AOh14GgJzA6ST7SXJztqFBiGH9sYJ4cvHZi7Bjp1RJuwnA=s64",
      "userId": "08262452322628430763"
     },
     "user_tz": 420
    },
    "id": "--5pWblvuMYr",
    "outputId": "7279c4b6-f32d-4316-dbb0-798ef3ce040d"
   },
   "outputs": [
    {
     "name": "stdout",
     "output_type": "stream",
     "text": [
      "Ada Boost accuracy Score:  75.25\n"
     ]
    }
   ],
   "source": [
    "score_ada = accuracy_score(y_test, y_pred)*100\n",
    "print(\"Ada Boost accuracy Score: \", score_ada)"
   ]
  },
  {
   "cell_type": "markdown",
   "id": "zq5Sc0-TueK1",
   "metadata": {
    "id": "zq5Sc0-TueK1"
   },
   "source": [
    "\n",
    "## Gradient Boosting Classifier"
   ]
  },
  {
   "cell_type": "code",
   "execution_count": 37,
   "id": "P1tqBzWouwU-",
   "metadata": {
    "colab": {
     "base_uri": "https://localhost:8080/"
    },
    "executionInfo": {
     "elapsed": 1432,
     "status": "ok",
     "timestamp": 1637180375918,
     "user": {
      "displayName": "Adrian Emilio Vazquez Icedo",
      "photoUrl": "https://lh3.googleusercontent.com/a-/AOh14GgJzA6ST7SXJztqFBiGH9sYJ4cvHZi7Bjp1RJuwnA=s64",
      "userId": "08262452322628430763"
     },
     "user_tz": 420
    },
    "id": "P1tqBzWouwU-",
    "outputId": "c538d0d1-5c29-4b10-9248-b4d717c5353e"
   },
   "outputs": [
    {
     "data": {
      "text/plain": [
       "GradientBoostingClassifier()"
      ]
     },
     "execution_count": 37,
     "metadata": {},
     "output_type": "execute_result"
    }
   ],
   "source": [
    "from sklearn.ensemble import GradientBoostingClassifier\n",
    "gbc = GradientBoostingClassifier()\n",
    "gbc.fit(x_train, y_train)"
   ]
  },
  {
   "cell_type": "code",
   "execution_count": 38,
   "id": "C9HYCekOu0xc",
   "metadata": {
    "colab": {
     "base_uri": "https://localhost:8080/"
    },
    "executionInfo": {
     "elapsed": 20,
     "status": "ok",
     "timestamp": 1637180375919,
     "user": {
      "displayName": "Adrian Emilio Vazquez Icedo",
      "photoUrl": "https://lh3.googleusercontent.com/a-/AOh14GgJzA6ST7SXJztqFBiGH9sYJ4cvHZi7Bjp1RJuwnA=s64",
      "userId": "08262452322628430763"
     },
     "user_tz": 420
    },
    "id": "C9HYCekOu0xc",
    "outputId": "f14cfaef-59c9-424a-903b-04fd640e2014"
   },
   "outputs": [
    {
     "name": "stdout",
     "output_type": "stream",
     "text": [
      "              precision    recall  f1-score   support\n",
      "\n",
      "        High       0.70      0.42      0.53        45\n",
      "         Low       0.00      0.00      0.00        16\n",
      "      Medium       0.89      0.98      0.93       339\n",
      "\n",
      "    accuracy                           0.88       400\n",
      "   macro avg       0.53      0.47      0.49       400\n",
      "weighted avg       0.83      0.88      0.85       400\n",
      "\n",
      "[[ 19   0  26]\n",
      " [  0   0  16]\n",
      " [  8   0 331]]\n",
      "Training Score:  96.3302752293578\n",
      "Testing Score:  87.5\n"
     ]
    },
    {
     "name": "stderr",
     "output_type": "stream",
     "text": [
      "C:\\Users\\avazq\\anaconda3\\lib\\site-packages\\sklearn\\metrics\\_classification.py:1245: UndefinedMetricWarning: Precision and F-score are ill-defined and being set to 0.0 in labels with no predicted samples. Use `zero_division` parameter to control this behavior.\n",
      "  _warn_prf(average, modifier, msg_start, len(result))\n",
      "C:\\Users\\avazq\\anaconda3\\lib\\site-packages\\sklearn\\metrics\\_classification.py:1245: UndefinedMetricWarning: Precision and F-score are ill-defined and being set to 0.0 in labels with no predicted samples. Use `zero_division` parameter to control this behavior.\n",
      "  _warn_prf(average, modifier, msg_start, len(result))\n",
      "C:\\Users\\avazq\\anaconda3\\lib\\site-packages\\sklearn\\metrics\\_classification.py:1245: UndefinedMetricWarning: Precision and F-score are ill-defined and being set to 0.0 in labels with no predicted samples. Use `zero_division` parameter to control this behavior.\n",
      "  _warn_prf(average, modifier, msg_start, len(result))\n"
     ]
    }
   ],
   "source": [
    "y_pred=gbc.predict(x_test)\n",
    "from sklearn.metrics import classification_report, confusion_matrix, accuracy_score, mean_squared_error, r2_score\n",
    "print(classification_report(y_test, y_pred))\n",
    "print(confusion_matrix(y_test, y_pred))\n",
    "print(\"Training Score: \", gbc.score(x_train, y_train)*100)\n",
    "print(\"Testing Score: \", gbc.score(x_test, y_test)*100)"
   ]
  },
  {
   "cell_type": "code",
   "execution_count": 39,
   "id": "LPrgxR7Yu8J0",
   "metadata": {
    "colab": {
     "base_uri": "https://localhost:8080/"
    },
    "executionInfo": {
     "elapsed": 16,
     "status": "ok",
     "timestamp": 1637180375919,
     "user": {
      "displayName": "Adrian Emilio Vazquez Icedo",
      "photoUrl": "https://lh3.googleusercontent.com/a-/AOh14GgJzA6ST7SXJztqFBiGH9sYJ4cvHZi7Bjp1RJuwnA=s64",
      "userId": "08262452322628430763"
     },
     "user_tz": 420
    },
    "id": "LPrgxR7Yu8J0",
    "outputId": "09902af7-d3fe-4e1a-dce1-9ae07e464356"
   },
   "outputs": [
    {
     "name": "stdout",
     "output_type": "stream",
     "text": [
      "Gradient Boosting accuracy Score:  87.5\n"
     ]
    }
   ],
   "source": [
    "score_gb = accuracy_score(y_test, y_pred)*100\n",
    "print(\"Gradient Boosting accuracy Score: \", score_gb)"
   ]
  },
  {
   "cell_type": "markdown",
   "id": "8r3dr35Z_Ken",
   "metadata": {
    "id": "8r3dr35Z_Ken"
   },
   "source": [
    "\n",
    "## XGB Classifier"
   ]
  },
  {
   "cell_type": "code",
   "execution_count": 40,
   "id": "OOUsq_YU_PZ6",
   "metadata": {
    "colab": {
     "base_uri": "https://localhost:8080/"
    },
    "executionInfo": {
     "elapsed": 268,
     "status": "ok",
     "timestamp": 1637180376180,
     "user": {
      "displayName": "Adrian Emilio Vazquez Icedo",
      "photoUrl": "https://lh3.googleusercontent.com/a-/AOh14GgJzA6ST7SXJztqFBiGH9sYJ4cvHZi7Bjp1RJuwnA=s64",
      "userId": "08262452322628430763"
     },
     "user_tz": 420
    },
    "id": "OOUsq_YU_PZ6",
    "outputId": "c41398bd-6d5a-4188-a7bd-82aa9eadf9ad"
   },
   "outputs": [
    {
     "name": "stdout",
     "output_type": "stream",
     "text": [
      "[22:42:04] WARNING: C:/Users/Administrator/workspace/xgboost-win64_release_1.5.1/src/learner.cc:1115: Starting in XGBoost 1.3.0, the default evaluation metric used with the objective 'multi:softprob' was changed from 'merror' to 'mlogloss'. Explicitly set eval_metric if you'd like to restore the old behavior.\n"
     ]
    },
    {
     "name": "stderr",
     "output_type": "stream",
     "text": [
      "C:\\Users\\avazq\\anaconda3\\lib\\site-packages\\xgboost\\sklearn.py:1224: UserWarning: The use of label encoder in XGBClassifier is deprecated and will be removed in a future release. To remove this warning, do the following: 1) Pass option use_label_encoder=False when constructing XGBClassifier object; and 2) Encode your labels (y) as integers starting with 0, i.e. 0, 1, 2, ..., [num_class - 1].\n",
      "  warnings.warn(label_encoder_deprecation_msg, UserWarning)\n"
     ]
    },
    {
     "data": {
      "text/plain": [
       "XGBClassifier(alpha=10, base_score=0.5, booster='gbtree', colsample_bylevel=1,\n",
       "              colsample_bynode=1, colsample_bytree=0.3,\n",
       "              enable_categorical=False, gamma=0, gpu_id=-1,\n",
       "              importance_type=None, interaction_constraints='',\n",
       "              learning_rate=0.1, max_delta_step=0, max_depth=5,\n",
       "              min_child_weight=1, missing=nan, monotone_constraints='()',\n",
       "              n_estimators=10, n_jobs=12, num_parallel_tree=1,\n",
       "              objective='multi:softprob', predictor='auto', random_state=0,\n",
       "              reg_alpha=10, reg_lambda=1, scale_pos_weight=None, subsample=1,\n",
       "              tree_method='exact', validate_parameters=1, verbosity=None)"
      ]
     },
     "execution_count": 40,
     "metadata": {},
     "output_type": "execute_result"
    }
   ],
   "source": [
    "from xgboost import XGBClassifier\n",
    "\n",
    "xgb = XGBClassifier(objective ='reg:linear', colsample_bytree = 0.3, learning_rate = 0.1,\n",
    "                max_depth = 5, alpha = 10, n_estimators = 10)\n",
    "\n",
    "xgb.fit(x_train, y_train)"
   ]
  },
  {
   "cell_type": "code",
   "execution_count": 41,
   "id": "o-9Zk5cJ_c9h",
   "metadata": {
    "colab": {
     "base_uri": "https://localhost:8080/"
    },
    "executionInfo": {
     "elapsed": 8,
     "status": "ok",
     "timestamp": 1637180376181,
     "user": {
      "displayName": "Adrian Emilio Vazquez Icedo",
      "photoUrl": "https://lh3.googleusercontent.com/a-/AOh14GgJzA6ST7SXJztqFBiGH9sYJ4cvHZi7Bjp1RJuwnA=s64",
      "userId": "08262452322628430763"
     },
     "user_tz": 420
    },
    "id": "o-9Zk5cJ_c9h",
    "outputId": "bf98617f-7ce1-4910-b2aa-d74c98aab8a8"
   },
   "outputs": [
    {
     "name": "stdout",
     "output_type": "stream",
     "text": [
      "              precision    recall  f1-score   support\n",
      "\n",
      "        High       0.00      0.00      0.00        45\n",
      "         Low       0.00      0.00      0.00        16\n",
      "      Medium       0.85      1.00      0.92       339\n",
      "\n",
      "    accuracy                           0.85       400\n",
      "   macro avg       0.28      0.33      0.31       400\n",
      "weighted avg       0.72      0.85      0.78       400\n",
      "\n",
      "[[  0   0  45]\n",
      " [  0   0  16]\n",
      " [  0   0 339]]\n",
      "Training Score:  81.7347789824854\n",
      "Testing Score:  84.75\n"
     ]
    },
    {
     "name": "stderr",
     "output_type": "stream",
     "text": [
      "C:\\Users\\avazq\\anaconda3\\lib\\site-packages\\sklearn\\metrics\\_classification.py:1245: UndefinedMetricWarning: Precision and F-score are ill-defined and being set to 0.0 in labels with no predicted samples. Use `zero_division` parameter to control this behavior.\n",
      "  _warn_prf(average, modifier, msg_start, len(result))\n",
      "C:\\Users\\avazq\\anaconda3\\lib\\site-packages\\sklearn\\metrics\\_classification.py:1245: UndefinedMetricWarning: Precision and F-score are ill-defined and being set to 0.0 in labels with no predicted samples. Use `zero_division` parameter to control this behavior.\n",
      "  _warn_prf(average, modifier, msg_start, len(result))\n",
      "C:\\Users\\avazq\\anaconda3\\lib\\site-packages\\sklearn\\metrics\\_classification.py:1245: UndefinedMetricWarning: Precision and F-score are ill-defined and being set to 0.0 in labels with no predicted samples. Use `zero_division` parameter to control this behavior.\n",
      "  _warn_prf(average, modifier, msg_start, len(result))\n"
     ]
    }
   ],
   "source": [
    "y_pred = xgb.predict(x_test)\n",
    "from sklearn.metrics import classification_report, confusion_matrix, accuracy_score, mean_squared_error, r2_score\n",
    "print(classification_report(y_test, y_pred))\n",
    "print(confusion_matrix(y_test, y_pred))\n",
    "print(\"Training Score: \", xgb.score(x_train, y_train)*100)\n",
    "print(\"Testing Score: \", xgb.score(x_test, y_test)*100)"
   ]
  },
  {
   "cell_type": "code",
   "execution_count": 42,
   "id": "KT3yC1oG_odA",
   "metadata": {
    "colab": {
     "base_uri": "https://localhost:8080/"
    },
    "executionInfo": {
     "elapsed": 5,
     "status": "ok",
     "timestamp": 1637180376181,
     "user": {
      "displayName": "Adrian Emilio Vazquez Icedo",
      "photoUrl": "https://lh3.googleusercontent.com/a-/AOh14GgJzA6ST7SXJztqFBiGH9sYJ4cvHZi7Bjp1RJuwnA=s64",
      "userId": "08262452322628430763"
     },
     "user_tz": 420
    },
    "id": "KT3yC1oG_odA",
    "outputId": "de87c540-3165-4724-b5d2-8137892993c8"
   },
   "outputs": [
    {
     "name": "stdout",
     "output_type": "stream",
     "text": [
      "XGB accuracy Score:  84.75\n"
     ]
    }
   ],
   "source": [
    "score_xgb = accuracy_score(y_test, y_pred)*100\n",
    "print(\"XGB accuracy Score: \", score_xgb)"
   ]
  },
  {
   "cell_type": "markdown",
   "id": "pwRo8TCCAJgD",
   "metadata": {
    "id": "pwRo8TCCAJgD"
   },
   "source": [
    "\n",
    "## Naive Bayes"
   ]
  },
  {
   "cell_type": "code",
   "execution_count": 43,
   "id": "DFkkjOdJAO8v",
   "metadata": {
    "colab": {
     "base_uri": "https://localhost:8080/"
    },
    "executionInfo": {
     "elapsed": 3,
     "status": "ok",
     "timestamp": 1637180376181,
     "user": {
      "displayName": "Adrian Emilio Vazquez Icedo",
      "photoUrl": "https://lh3.googleusercontent.com/a-/AOh14GgJzA6ST7SXJztqFBiGH9sYJ4cvHZi7Bjp1RJuwnA=s64",
      "userId": "08262452322628430763"
     },
     "user_tz": 420
    },
    "id": "DFkkjOdJAO8v",
    "outputId": "c581ce01-52ff-4f1a-a733-6617756dd344"
   },
   "outputs": [
    {
     "data": {
      "text/plain": [
       "GaussianNB()"
      ]
     },
     "execution_count": 43,
     "metadata": {},
     "output_type": "execute_result"
    }
   ],
   "source": [
    "from sklearn.naive_bayes import GaussianNB\n",
    "gnb = GaussianNB()\n",
    "gnb.fit(x_train,y_train)"
   ]
  },
  {
   "cell_type": "code",
   "execution_count": 44,
   "id": "RJ4L87X8APPl",
   "metadata": {
    "colab": {
     "base_uri": "https://localhost:8080/"
    },
    "executionInfo": {
     "elapsed": 7,
     "status": "ok",
     "timestamp": 1637180376423,
     "user": {
      "displayName": "Adrian Emilio Vazquez Icedo",
      "photoUrl": "https://lh3.googleusercontent.com/a-/AOh14GgJzA6ST7SXJztqFBiGH9sYJ4cvHZi7Bjp1RJuwnA=s64",
      "userId": "08262452322628430763"
     },
     "user_tz": 420
    },
    "id": "RJ4L87X8APPl",
    "outputId": "d40162c1-76fb-42b3-a712-39363e8ceb4b"
   },
   "outputs": [
    {
     "name": "stdout",
     "output_type": "stream",
     "text": [
      "              precision    recall  f1-score   support\n",
      "\n",
      "        High       0.51      0.44      0.48        45\n",
      "         Low       0.10      0.06      0.08        16\n",
      "      Medium       0.89      0.92      0.90       339\n",
      "\n",
      "    accuracy                           0.83       400\n",
      "   macro avg       0.50      0.48      0.49       400\n",
      "weighted avg       0.82      0.83      0.82       400\n",
      "\n",
      "[[ 20   1  24]\n",
      " [  0   1  15]\n",
      " [ 19   8 312]]\n",
      "0.8325\n",
      "Training Score:  81.7347789824854\n",
      "Testing Score:  83.25\n"
     ]
    }
   ],
   "source": [
    "y_pred = gnb.predict(x_test)\n",
    "from sklearn.metrics import classification_report, confusion_matrix, accuracy_score, mean_squared_error, r2_score\n",
    "print(classification_report(y_test, y_pred))\n",
    "print(confusion_matrix(y_test, y_pred))\n",
    "print(accuracy_score(y_test, y_pred))\n",
    "print(\"Training Score: \",gnb.score(x_train, y_train)*100)\n",
    "print(\"Testing Score: \", gnb.score(x_test, y_test)*100)"
   ]
  },
  {
   "cell_type": "code",
   "execution_count": 45,
   "id": "byj5RSkTAr8X",
   "metadata": {
    "colab": {
     "base_uri": "https://localhost:8080/"
    },
    "executionInfo": {
     "elapsed": 7,
     "status": "ok",
     "timestamp": 1637180376424,
     "user": {
      "displayName": "Adrian Emilio Vazquez Icedo",
      "photoUrl": "https://lh3.googleusercontent.com/a-/AOh14GgJzA6ST7SXJztqFBiGH9sYJ4cvHZi7Bjp1RJuwnA=s64",
      "userId": "08262452322628430763"
     },
     "user_tz": 420
    },
    "id": "byj5RSkTAr8X",
    "outputId": "f5de8a57-01c0-4da0-f17e-aab6d978809f"
   },
   "outputs": [
    {
     "name": "stdout",
     "output_type": "stream",
     "text": [
      "Naive Bayes accuracy Score:  83.25\n"
     ]
    }
   ],
   "source": [
    "score_nb = accuracy_score(y_test, y_pred)*100\n",
    "print(\"Naive Bayes accuracy Score: \", score_nb)"
   ]
  },
  {
   "cell_type": "markdown",
   "id": "pRVQcHM2KrQQ",
   "metadata": {
    "id": "pRVQcHM2KrQQ"
   },
   "source": [
    "### Resumen con los resultados"
   ]
  },
  {
   "cell_type": "code",
   "execution_count": 46,
   "id": "dGGF74LpKuSB",
   "metadata": {
    "id": "dGGF74LpKuSB"
   },
   "outputs": [],
   "source": [
    "abstract = pd.DataFrame({\"Model\":['Logistic Regression','KNN Classifier','Decision Tree Classifier', 'Random Forest Classifier', \n",
    "                                'SVC Classifier','AdaBoost Classifier', 'Gradient Boosting Classifier','XGB Classifier',\n",
    "                                'Naive Bayes Classifier', 'Pipeline'],\n",
    "                      \"Accuracy\":[score_lr, score_knn, score_ds, score_rf, score_svc, score_ada, score_gb, score_xgb, score_nb, pipeScore]})"
   ]
  },
  {
   "cell_type": "code",
   "execution_count": 47,
   "id": "iX8wM6iMRYjt",
   "metadata": {
    "colab": {
     "base_uri": "https://localhost:8080/"
    },
    "executionInfo": {
     "elapsed": 235,
     "status": "ok",
     "timestamp": 1637180515545,
     "user": {
      "displayName": "Adrian Emilio Vazquez Icedo",
      "photoUrl": "https://lh3.googleusercontent.com/a-/AOh14GgJzA6ST7SXJztqFBiGH9sYJ4cvHZi7Bjp1RJuwnA=s64",
      "userId": "08262452322628430763"
     },
     "user_tz": 420
    },
    "id": "iX8wM6iMRYjt",
    "outputId": "972b40b3-0ba1-4109-d0f8-830590026565"
   },
   "outputs": [
    {
     "name": "stdout",
     "output_type": "stream",
     "text": [
      "                          Model  Accuracy\n",
      "0           Logistic Regression     85.25\n",
      "1                KNN Classifier     83.50\n",
      "2      Decision Tree Classifier     86.50\n",
      "3      Random Forest Classifier     89.50\n",
      "4                SVC Classifier     87.00\n",
      "5           AdaBoost Classifier     75.25\n",
      "6  Gradient Boosting Classifier     87.50\n",
      "7                XGB Classifier     84.75\n",
      "8        Naive Bayes Classifier     83.25\n",
      "9                      Pipeline     89.25\n"
     ]
    }
   ],
   "source": [
    "print(abstract)"
   ]
  },
  {
   "cell_type": "markdown",
   "id": "K053JheFJs3e",
   "metadata": {
    "id": "K053JheFJs3e"
   },
   "source": [
    "## Conclusiones"
   ]
  },
  {
   "cell_type": "markdown",
   "id": "HQLXPfljLWgP",
   "metadata": {
    "id": "HQLXPfljLWgP"
   },
   "source": [
    "Por Adilene Calderón, Aaron Lara, Adrían Vázquez. Introducción a la Ciencia de Datos y sus Metodologías. [MCD UNISON](https://mcd.unison.mx)"
   ]
  },
  {
   "cell_type": "markdown",
   "id": "Bnm7-bgMLXj8",
   "metadata": {
    "id": "Bnm7-bgMLXj8"
   },
   "source": [
    "## Referencias\n",
    "I_Prerna_Kalura(2021). Breast cancer solution. https://www.kaggle.com/iprernakalura/breast-cancer-solution\n",
    "\n",
    "https://www.datacamp.com/community/tutorials/k-nearest-neighbor-classification-scikit-learn\n",
    "\n",
    "https://scikit-learn.org/stable/modules/generated/sklearn.neighbors.KNeighborsClassifier.html\n",
    "\n",
    "\n",
    "https://www.datacamp.com/community/tutorials/decision-tree-classification-python\n",
    "\n",
    "https://scikit-learn.org/stable/modules/tree.html\n",
    "\n",
    "https://www.kaggle.com/madhurisivalenka/basic-machine-learning-with-red-wine-quality-data\n"
   ]
  }
 ],
 "metadata": {
  "colab": {
   "collapsed_sections": [],
   "name": "Normalization_PCA_wine_Models.ipynb",
   "provenance": [
    {
     "file_id": "11yFx4RhiIOhW1YBHrTjpnCM0rSgKsbxz",
     "timestamp": 1637179777338
    },
    {
     "file_id": "1syprpuEs4ae3X-j86DL4fM5paNY8WwuI",
     "timestamp": 1637130113979
    },
    {
     "file_id": "1YDQoUZKAZ9-jsGbcqBSdYPCqsWt9DHNJ",
     "timestamp": 1634351118113
    }
   ]
  },
  "kernelspec": {
   "display_name": "Python 3",
   "language": "python",
   "name": "python3"
  },
  "language_info": {
   "codemirror_mode": {
    "name": "ipython",
    "version": 3
   },
   "file_extension": ".py",
   "mimetype": "text/x-python",
   "name": "python",
   "nbconvert_exporter": "python",
   "pygments_lexer": "ipython3",
   "version": "3.8.8"
  }
 },
 "nbformat": 4,
 "nbformat_minor": 5
}
